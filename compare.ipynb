{
 "cells": [
  {
   "cell_type": "code",
   "execution_count": 1,
   "id": "5c51ecd3-5409-4760-a05d-8ed02ca015d7",
   "metadata": {},
   "outputs": [],
   "source": [
    "import torch\n",
    "import torchvision\n",
    "import torchvision.models as models\n",
    "from torchvision.transforms import v2\n",
    "from torch.utils.data import Dataset, DataLoader"
   ]
  },
  {
   "cell_type": "code",
   "execution_count": 2,
   "id": "2a7f6e54-965b-406d-98ec-c8ea4bb618e9",
   "metadata": {},
   "outputs": [],
   "source": [
    "import matplotlib.pyplot as plt\n",
    "import seaborn as sns\n",
    "from sklearn.metrics import classification_report, precision_recall_fscore_support, confusion_matrix, roc_auc_score, roc_curve, precision_recall_curve, auc"
   ]
  },
  {
   "cell_type": "code",
   "execution_count": 3,
   "id": "df50e14e-378f-4bae-a9e5-b6cf3322afa4",
   "metadata": {},
   "outputs": [],
   "source": [
    "import os\n",
    "import cv2\n",
    "import numpy as np\n",
    "import lmdb\n",
    "import pickle\n",
    "import time"
   ]
  },
  {
   "cell_type": "code",
   "execution_count": 4,
   "id": "77b8a211-f35f-48f6-85de-7df06bed3e4a",
   "metadata": {},
   "outputs": [],
   "source": [
    "from src.FFTConv import *\n",
    "from src.ImageHandler import *"
   ]
  },
  {
   "cell_type": "code",
   "execution_count": 5,
   "id": "89024300-6e18-4b8d-aac2-1770db12d0ca",
   "metadata": {},
   "outputs": [],
   "source": [
    "IMG_SIZE = 128\n",
    "device = 'cuda' if torch.cuda.is_available() else 'cpu'\n",
    "REBUILD_DATA = False"
   ]
  },
  {
   "cell_type": "code",
   "execution_count": 6,
   "id": "5bb4240a-04ab-42ce-8298-4feb3e817c31",
   "metadata": {},
   "outputs": [
    {
     "name": "stdout",
     "output_type": "stream",
     "text": [
      "Loaded test dataset\n"
     ]
    }
   ],
   "source": [
    "lmdb_path = os.path.join('lmdb')\n",
    "\n",
    "if REBUILD_DATA:\n",
    "    image_path = os.path.join('data', 'test_set')\n",
    "    test_data = ImageDataset(image_path=image_path, device=device, lmdb_path=lmdb_path, save_lmdb=True, mode=\"test\")\n",
    "\n",
    "    REBUILD_DATA = False\n",
    "else:\n",
    "    test_data = ImageDataset(image_path=None, device=device, lmdb_path=lmdb_path, save_lmdb=False, mode=\"test\")"
   ]
  },
  {
   "cell_type": "code",
   "execution_count": 7,
   "id": "2cdbfb5f-da28-478b-bc48-e75289a60658",
   "metadata": {},
   "outputs": [],
   "source": [
    "batch_size = 32\n",
    "test_dl = DataLoader(test_data, batch_size, shuffle=False, pin_memory=True)"
   ]
  },
  {
   "cell_type": "code",
   "execution_count": 8,
   "id": "e00bde61-cbe7-4dae-a249-558a39498449",
   "metadata": {},
   "outputs": [
    {
     "name": "stdout",
     "output_type": "stream",
     "text": [
      "Total Layers replaced:  1\n"
     ]
    }
   ],
   "source": [
    "fft_alex = FFTAlex(apply_fft=True, device=device, IMG_SIZE=IMG_SIZE)\n",
    "reg_alex = FFTAlex(apply_fft=False, device=device, IMG_SIZE=IMG_SIZE)"
   ]
  },
  {
   "cell_type": "code",
   "execution_count": 9,
   "id": "c7524f9c-24f2-40c8-bbf5-72517cab91bb",
   "metadata": {},
   "outputs": [
    {
     "name": "stdout",
     "output_type": "stream",
     "text": [
      "Total Layers replaced:  18\n"
     ]
    }
   ],
   "source": [
    "fft_google = FFTGoogle(apply_fft=True, device=device)\n",
    "reg_google = FFTGoogle(apply_fft=False, device=device)"
   ]
  },
  {
   "cell_type": "code",
   "execution_count": 10,
   "id": "5a0a18f0-8e23-488d-b7b8-a7e9e00e5ecf",
   "metadata": {},
   "outputs": [
    {
     "name": "stderr",
     "output_type": "stream",
     "text": [
      "C:\\Users\\samir\\python\\minor_project\\fft_cnn\\src\\FFTConv.py:95: FutureWarning: You are using `torch.load` with `weights_only=False` (the current default value), which uses the default pickle module implicitly. It is possible to construct malicious pickle data which will execute arbitrary code during unpickling (See https://github.com/pytorch/pytorch/blob/main/SECURITY.md#untrusted-models for more details). In a future release, the default value for `weights_only` will be flipped to `True`. This limits the functions that could be executed during unpickling. Arbitrary objects will no longer be allowed to be loaded via this mode unless they are explicitly allowlisted by the user via `torch.serialization.add_safe_globals`. We recommend you start setting `weights_only=True` for any use case where you don't have full control of the loaded file. Please open an issue on GitHub for any issues related to this experimental feature.\n",
      "  state_dict = torch.load(path, map_location=self.device)\n"
     ]
    }
   ],
   "source": [
    "fft_alex.load_model_dict(os.path.join('models', 'alex', 'fft_alex_model.pth'))\n",
    "reg_alex.load_model_dict(os.path.join('models', 'alex', 'reg_alex_model.pth'))"
   ]
  },
  {
   "cell_type": "code",
   "execution_count": 11,
   "id": "11050a75-8243-4fa3-80e5-56c858b9176c",
   "metadata": {},
   "outputs": [],
   "source": [
    "fft_google.load_model_dict(os.path.join('models', 'google', 'fft_google_model.pth'))\n",
    "reg_google.load_model_dict(os.path.join('models', 'google', 'reg_google_model.pth'))"
   ]
  },
  {
   "cell_type": "code",
   "execution_count": 12,
   "id": "c391737c-584f-4250-9e1a-929c84c74c04",
   "metadata": {},
   "outputs": [],
   "source": [
    "tr_fft_alex = np.load(os.path.join('models', 'alex', 'tr_fft_accuracy.npy'))\n",
    "val_fft_alex = np.load(os.path.join('models', 'alex', 'val_fft_accuracy.npy'))\n",
    "\n",
    "tr_reg_alex = np.load(os.path.join('models', 'alex', 'tr_reg_accuracy.npy'))\n",
    "val_reg_alex = np.load(os.path.join('models', 'alex', 'val_reg_accuracy.npy'))"
   ]
  },
  {
   "cell_type": "code",
   "execution_count": 13,
   "id": "380f7522-7e36-4eda-9083-51deae9be4aa",
   "metadata": {},
   "outputs": [],
   "source": [
    "tr_fft_google = np.load(os.path.join('models', 'google', 'tr_fft_accuracy.npy'))\n",
    "val_fft_google = np.load(os.path.join('models', 'google', 'val_fft_accuracy.npy'))\n",
    "\n",
    "tr_reg_google = np.load(os.path.join('models', 'google', 'tr_reg_accuracy.npy'))\n",
    "val_reg_google = np.load(os.path.join('models', 'google', 'val_reg_accuracy.npy'))"
   ]
  },
  {
   "cell_type": "code",
   "execution_count": 14,
   "id": "890e2632-f9ee-4a8b-a457-c0152f9aa9f5",
   "metadata": {},
   "outputs": [],
   "source": [
    "def get_predictions(model, test_dl, device):\n",
    "    model.eval()\n",
    "    all_preds = []\n",
    "    all_labels = []\n",
    "    all_probs = []\n",
    "    start_time = time.time()\n",
    "    \n",
    "    with torch.no_grad():\n",
    "        for images, labels in tqdm(test_dl):\n",
    "            images = images.to(device)\n",
    "            labels = labels.to(device)\n",
    "            outputs = model(images)\n",
    "            preds = torch.argmax(outputs, dim=1)\n",
    "            probs = torch.softmax(outputs, dim=1)\n",
    "            \n",
    "            all_preds.extend(preds.cpu().numpy())\n",
    "            all_probs.extend(probs.cpu().numpy())\n",
    "            all_labels.extend(labels.cpu().numpy())\n",
    "\n",
    "    end_time = time.time()\n",
    "    inference_time = (end_time - start_time) * 1000 / batch_size\n",
    "    print(f\"Inference Time: {inference_time}\")\n",
    "\n",
    "    return np.array(all_labels), np.array(all_preds), np.array(all_probs)"
   ]
  },
  {
   "cell_type": "code",
   "execution_count": 15,
   "id": "20dd7a8a-8329-4d9e-a01e-c58149fe8ff9",
   "metadata": {},
   "outputs": [],
   "source": [
    "def compute_metrics(ground_truths, predictions):\n",
    "    precision, recall, f1, _ = precision_recall_fscore_support(ground_truths, predictions, average=None)\n",
    "    return precision, recall, f1"
   ]
  },
  {
   "cell_type": "code",
   "execution_count": 16,
   "id": "9902df79-099c-43af-bd34-ea9b828a03e9",
   "metadata": {},
   "outputs": [],
   "source": [
    "def plot_metrics(precision1, recall1, f1_1, precision2, recall2, f1_2, class_names, save_path):\n",
    "    x = np.arange(len(class_names))\n",
    "    width = 0.3\n",
    "\n",
    "    fig, ax = plt.subplots(1, 3, figsize=(15,5))\n",
    "\n",
    "    # Precision\n",
    "    ax[0].bar(x - width/2, precision1, width, label=\"Model 1\", color=\"blue\")\n",
    "    ax[0].bar(x + width/2, precision2, width, label=\"Model 2\", color=\"orange\")\n",
    "    ax[0].set_title(\"Precision Comparison\")\n",
    "    ax[0].set_xticks(x)\n",
    "    ax[0].set_xticklabels(class_names)\n",
    "\n",
    "    # Recall\n",
    "    ax[1].bar(x - width/2, recall1, width, color=\"blue\")\n",
    "    ax[1].bar(x + width/2, recall2, width, color=\"orange\")\n",
    "    ax[1].set_title(\"Recall Comparison\")\n",
    "    ax[1].set_xticks(x)\n",
    "    ax[1].set_xticklabels(class_names)\n",
    "\n",
    "    # F1-score\n",
    "    ax[2].bar(x - width/2, f1_1, width, color=\"blue\")\n",
    "    ax[2].bar(x + width/2, f1_2, width, color=\"orange\")\n",
    "    ax[2].set_title(\"F1-score Comparison\")\n",
    "    ax[2].set_xticks(x)\n",
    "    ax[2].set_xticklabels(class_names)\n",
    "\n",
    "    for a in ax:\n",
    "        a.legend([\"FFT\", \"Regular\"])\n",
    "        a.set_ylim(0, 1)\n",
    "\n",
    "    plt.tight_layout()\n",
    "    \n",
    "    if save_path:\n",
    "        plt.savefig(save_path, dpi=300, bbox_inches=\"tight\")\n",
    "        \n",
    "    plt.show()"
   ]
  },
  {
   "cell_type": "code",
   "execution_count": 17,
   "id": "2bcf4ba1-56ae-407b-9c7f-f471e96a2ffe",
   "metadata": {},
   "outputs": [],
   "source": [
    "def plot_confusion_matrix(y_true, y_pred1, y_pred2, class_names, save_path):\n",
    "    cm1 = confusion_matrix(y_true, y_pred1)\n",
    "    cm2 = confusion_matrix(y_true, y_pred2)\n",
    "\n",
    "    fig, ax = plt.subplots(1, 2, figsize=(12, 5))\n",
    "\n",
    "    sns.heatmap(cm1, annot=True, fmt=\"d\", cmap=\"Blues\", xticklabels=class_names, yticklabels=class_names, ax=ax[0])\n",
    "    ax[0].set_title(\"Confusion Matrix - FFT\")\n",
    "    ax[0].set_xlabel(\"Predicted\")\n",
    "    ax[0].set_ylabel(\"Actual\")\n",
    "\n",
    "    sns.heatmap(cm2, annot=True, fmt=\"d\", cmap=\"Oranges\", xticklabels=class_names, yticklabels=class_names, ax=ax[1])\n",
    "    ax[1].set_title(\"Confusion Matrix - Regular\")\n",
    "    ax[1].set_xlabel(\"Predicted\")\n",
    "    ax[1].set_ylabel(\"Actual\")\n",
    "\n",
    "    plt.tight_layout()\n",
    "    if save_path:\n",
    "        plt.savefig(save_path, dpi=300, bbox_inches=\"tight\")\n",
    "    plt.show()"
   ]
  },
  {
   "cell_type": "code",
   "execution_count": 18,
   "id": "d12c2c80-a345-4bdd-89f9-551761d8a656",
   "metadata": {},
   "outputs": [],
   "source": [
    "def plot_accuracy_graphs(\n",
    "    model1_train_acc, model1_val_acc,\n",
    "    model2_train_acc, model2_val_acc,\n",
    "    num_epochs, save_path\n",
    "):\n",
    "    epochs = np.arange(1, num_epochs + 1)\n",
    "\n",
    "    fig, ax = plt.subplots(2, 2, figsize=(12, 8))\n",
    "\n",
    "    # FFT Training vs Validation\n",
    "    ax[0, 0].plot(epochs, model1_train_acc, label=\"Train\", marker=\"o\", color=\"blue\")\n",
    "    ax[0, 0].plot(epochs, model1_val_acc, label=\"Validation\", marker=\"s\", color=\"red\")\n",
    "    ax[0, 0].set_title(\"FFT: Training vs Validation Accuracy\")\n",
    "    ax[0, 0].set_xlabel(\"Epochs\")\n",
    "    ax[0, 0].set_ylabel(\"Accuracy\")\n",
    "    ax[0, 0].legend()\n",
    "\n",
    "    # Regular Training vs Validation\n",
    "    ax[0, 1].plot(epochs, model2_train_acc, label=\"Train\", marker=\"o\", color=\"blue\")\n",
    "    ax[0, 1].plot(epochs, model2_val_acc, label=\"Validation\", marker=\"s\", color=\"red\")\n",
    "    ax[0, 1].set_title(\"Regular: Training vs Validation Accuracy\")\n",
    "    ax[0, 1].set_xlabel(\"Epochs\")\n",
    "    ax[0, 1].set_ylabel(\"Accuracy\")\n",
    "    ax[0, 1].legend()\n",
    "\n",
    "    # FFT Validation vs Regular Validation\n",
    "    ax[1, 0].plot(epochs, model1_val_acc, label=\"FFT\", marker=\"o\", color=\"blue\")\n",
    "    ax[1, 0].plot(epochs, model2_val_acc, label=\"Regular\", marker=\"s\", color=\"orange\")\n",
    "    ax[1, 0].set_title(\"Validation Accuracy: FFT vs Regular\")\n",
    "    ax[1, 0].set_xlabel(\"Epochs\")\n",
    "    ax[1, 0].set_ylabel(\"Accuracy\")\n",
    "    ax[1, 0].legend()\n",
    "\n",
    "    # FFT Training vs Regular Training\n",
    "    ax[1, 1].plot(epochs, model1_train_acc, label=\"FFT\", marker=\"o\", color=\"blue\")\n",
    "    ax[1, 1].plot(epochs, model2_train_acc, label=\"Regular\", marker=\"s\", color=\"orange\")\n",
    "    ax[1, 1].set_title(\"Training Accuracy: FFT vs Regular\")\n",
    "    ax[1, 1].set_xlabel(\"Epochs\")\n",
    "    ax[1, 1].set_ylabel(\"Accuracy\")\n",
    "    ax[1, 1].legend()\n",
    "\n",
    "    plt.tight_layout()\n",
    "\n",
    "    if save_path:\n",
    "        plt.savefig(save_path, dpi=300, bbox_inches=\"tight\")\n",
    "    \n",
    "    plt.show()"
   ]
  },
  {
   "cell_type": "code",
   "execution_count": 19,
   "id": "76edef40-5c39-4121-b856-d784fcb70d2f",
   "metadata": {},
   "outputs": [],
   "source": [
    "def plot_precision_recall_curve(y_true, y_pred_probs1, y_pred_probs2, class_names, save_path):\n",
    "    \n",
    "    fig, ax = plt.subplots(1, len(class_names), figsize=(15, 5))\n",
    "    if len(class_names) == 1:\n",
    "        ax = [ax]  # Ensure iterable when there is only one class\n",
    "    \n",
    "    for i, class_name in enumerate(class_names):\n",
    "        precision1, recall1, _ = precision_recall_curve(y_true == i, y_pred_probs1[:, i])\n",
    "        precision2, recall2, _ = precision_recall_curve(y_true == i, y_pred_probs2[:, i])\n",
    "        \n",
    "        auc1 = auc(recall1, precision1)\n",
    "        auc2 = auc(recall2, precision2)\n",
    "        \n",
    "        ax[i].plot(recall1, precision1, label=f\"FFT (AUC={auc1:.2f})\", color=\"blue\")\n",
    "        ax[i].plot(recall2, precision2, label=f\"Regular (AUC={auc2:.2f})\", color=\"orange\")\n",
    "        \n",
    "        ax[i].set_title(f\"Precision-Recall Curve: {class_name}\")\n",
    "        ax[i].set_xlabel(\"Recall\")\n",
    "        ax[i].set_ylabel(\"Precision\")\n",
    "        ax[i].legend()\n",
    "    \n",
    "    plt.tight_layout()\n",
    "\n",
    "    if save_path:\n",
    "        plt.savefig(save_path, dpi=300, bbox_inches=\"tight\")\n",
    "        \n",
    "    plt.show()"
   ]
  },
  {
   "cell_type": "code",
   "execution_count": 20,
   "id": "4886d194-622d-48b7-bbef-e0a7a8ebbe74",
   "metadata": {},
   "outputs": [],
   "source": [
    "def plot_roc_curve(y_true, y_probs, class_names, save_path):\n",
    "    \n",
    "    plt.figure(figsize=(10, 8))\n",
    "    for i in range(y_probs.shape[1]):\n",
    "        fpr, tpr, _ = roc_curve(y_true == i, y_probs[:, i])\n",
    "        auc = roc_auc_score(y_true == i, y_probs[:, i])\n",
    "        plt.plot(fpr, tpr, label=f'{class_names[i]} (AUC = {auc:.2f})')\n",
    "\n",
    "    plt.plot([0, 1], [0, 1], color='navy', linestyle='--')\n",
    "    plt.xlim([0.0, 1.0])\n",
    "    plt.ylim([0.0, 1.05])\n",
    "    plt.xlabel('False Positive Rate')\n",
    "    plt.ylabel('True Positive Rate')\n",
    "    plt.title('Receiver Operating Characteristic (ROC) Curve')\n",
    "    plt.legend(loc=\"lower right\")\n",
    "\n",
    "    if save_path:\n",
    "        plt.savefig(save_path, dpi=300, bbox_inches=\"tight\")\n",
    "        \n",
    "    plt.show()"
   ]
  },
  {
   "cell_type": "code",
   "execution_count": 21,
   "id": "0bf5a00a-9ad7-4fd2-ad75-39f45527f48a",
   "metadata": {},
   "outputs": [],
   "source": [
    "def compare_models(model1, model2, test_dl, class_names, \n",
    "                   model1_train_acc, model1_val_acc,\n",
    "                   model2_train_acc, model2_val_acc,\n",
    "                   num_epochs, name,\n",
    "                   device):\n",
    "\n",
    "    y_true, y_pred1, y_probs1 = get_predictions(model1, test_dl, device)\n",
    "    _, y_pred2, y_probs2 = get_predictions(model2, test_dl, device)\n",
    "\n",
    "    precision1, recall1, f1_1 = compute_metrics(y_true, y_pred1)\n",
    "    precision2, recall2, f1_2 = compute_metrics(y_true, y_pred2)\n",
    "\n",
    "    print(\"\\nFFT Metrics:\\n\", classification_report(y_true, y_pred1, target_names=class_names))\n",
    "    print(\"\\nRegular Metrics:\\n\", classification_report(y_true, y_pred2, target_names=class_names))\n",
    "\n",
    "    plot_metrics(precision1, recall1, f1_1, precision2, recall2, f1_2, class_names, os.path.join('graphs', f'{name}', 'PRF.png'))\n",
    "    plot_confusion_matrix(y_true, y_pred1, y_pred2, class_names, os.path.join('graphs', f'{name}', 'confusion.png'))\n",
    "    plot_precision_recall_curve(y_true, y_probs1, y_probs2, class_names, os.path.join('graphs', f'{name}', 'PR_curve.png'))\n",
    "    plot_accuracy_graphs(model1_train_acc, model1_val_acc, model2_train_acc, model2_val_acc, num_epochs, os.path.join('graphs', f'{name}', 'accuracy.png'))\n",
    "\n",
    "    # Plot ROC curve for both models\n",
    "    print(\"\\nROC Curve for FFT Model:\")\n",
    "    plot_roc_curve(y_true, y_probs1, class_names, os.path.join('graphs', f'{name}', 'ROC_fft.png'))\n",
    "    print(\"\\nROC Curve for Regular Model:\")\n",
    "    plot_roc_curve(y_true, y_probs2, class_names, os.path.join('graphs', f'{name}', 'ROC_reg.png'))"
   ]
  },
  {
   "cell_type": "code",
   "execution_count": 22,
   "id": "d4bdd2d1-fb8a-43dc-b8d1-5daa9c2a2779",
   "metadata": {},
   "outputs": [],
   "source": [
    "class_names = [\"bacterial\", \"normal\", \"viral\"]\n",
    "\n",
    "num_epochs_alex = len(tr_fft_alex)\n",
    "num_epochs_google = len(tr_fft_google)"
   ]
  },
  {
   "cell_type": "code",
   "execution_count": null,
   "id": "c3c966ef-278c-48fb-8029-faaedccd4896",
   "metadata": {},
   "outputs": [],
   "source": [
    "compare_models(fft_alex, reg_alex, test_dl, class_names,\n",
    "               tr_fft_alex, val_fft_alex,\n",
    "               tr_reg_alex, val_reg_alex, \n",
    "               num_epochs_alex, name='alex',\n",
    "               device=device)\n"
   ]
  },
  {
   "cell_type": "code",
   "execution_count": null,
   "id": "f98d1a6b-6f55-4276-9f25-54f56d2cca31",
   "metadata": {},
   "outputs": [],
   "source": [
    "compare_models(fft_google, reg_google, test_dl, class_names,\n",
    "               tr_fft_google, val_fft_google,\n",
    "               tr_reg_google, val_reg_google, \n",
    "               num_epochs_google, name='google',\n",
    "               device=device)"
   ]
  },
  {
   "cell_type": "code",
   "execution_count": null,
   "id": "7ee97074-8c2c-4d20-81fc-abe21e723fdd",
   "metadata": {},
   "outputs": [],
   "source": []
  }
 ],
 "metadata": {
  "kernelspec": {
   "display_name": "cuda:nvidia",
   "language": "python",
   "name": "cuda"
  },
  "language_info": {
   "codemirror_mode": {
    "name": "ipython",
    "version": 3
   },
   "file_extension": ".py",
   "mimetype": "text/x-python",
   "name": "python",
   "nbconvert_exporter": "python",
   "pygments_lexer": "ipython3",
   "version": "3.12.3"
  }
 },
 "nbformat": 4,
 "nbformat_minor": 5
}
