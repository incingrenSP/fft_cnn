{
 "cells": [
  {
   "cell_type": "code",
   "execution_count": null,
   "id": "da7736ff-730a-4434-ae81-ea9965730018",
   "metadata": {},
   "outputs": [],
   "source": [
    "import os\n",
    "import shutil\n",
    "import random\n",
    "from tqdm import tqdm"
   ]
  },
  {
   "cell_type": "code",
   "execution_count": null,
   "id": "a67773f3-0c09-497e-a718-1751ad048a54",
   "metadata": {},
   "outputs": [],
   "source": [
    "def mass_rename(file):\n",
    "    i = 1\n",
    "    str: upload_path\n",
    "    base, ext = os.path.splitext(file)\n",
    "\n",
    "    name, label, iid = base.split('_')\n",
    "    new_name = name + '_' + iid + ext\n",
    "    os.rename(file, new_name)\n",
    "    i += 1\n",
    "    upload_path = os.path.join(label)\n",
    "    shutil.copy(new_name, upload_path)"
   ]
  },
  {
   "cell_type": "code",
   "execution_count": null,
   "id": "9c32f2f1-42bc-4d0d-a494-74a5c0a6070b",
   "metadata": {},
   "outputs": [],
   "source": [
    "file_path = os.path.join('test', 'test')\n",
    "for img_file in tqdm(os.listdir(os.path.join(file_path))):\n",
    "    try:\n",
    "        full_path = os.path.join(file_path, img_file)\n",
    "        update = mass_rename(full_path)\n",
    "    except:\n",
    "        print(full_path)"
   ]
  },
  {
   "cell_type": "code",
   "execution_count": null,
   "id": "b45495a5-76e6-4bb9-9deb-b00c3de724af",
   "metadata": {},
   "outputs": [],
   "source": [
    "def move_random_images(source_dir, destination_dir, num_images=300):\n",
    "    # Get all image files from source directory\n",
    "    all_files = [f for f in os.listdir(source_dir) if f.endswith(('.png', '.jpg', '.jpeg', '.bmp', '.gif'))]\n",
    "    \n",
    "    # Ensure there are enough images to move\n",
    "    if len(all_files) < num_images:\n",
    "        print(f\"Not enough images in the source directory. Found only {len(all_files)} images.\")\n",
    "        return\n",
    "\n",
    "    # Randomly select `num_images` from the list\n",
    "    selected_files = random.sample(all_files, num_images)\n",
    "\n",
    "    # Create destination directory if it doesn't exist\n",
    "    if not os.path.exists(destination_dir):\n",
    "        os.makedirs(destination_dir)\n",
    "\n",
    "    # Move the selected files to the destination directory\n",
    "    for file in selected_files:\n",
    "        source_path = os.path.join(source_dir, file)\n",
    "        destination_path = os.path.join(destination_dir, file)\n",
    "        \n",
    "        shutil.move(source_path, destination_path)\n",
    "        print(f\"Moved: {file}\")\n",
    "\n",
    "    print(f\"Successfully moved {num_images} images.\")\n",
    "\n",
    "# Example usage:\n",
    "source_dir = os.path.join('data', 'train_set', 'bacterial')\n",
    "destination_dir = os.path.join('data', 'val_set', 'bacterial')\n",
    "\n",
    "move_random_images(source_dir, destination_dir)\n"
   ]
  },
  {
   "cell_type": "code",
   "execution_count": null,
   "id": "8488ad00-a91b-4bc7-a27d-d0c29080e450",
   "metadata": {},
   "outputs": [],
   "source": []
  }
 ],
 "metadata": {
  "kernelspec": {
   "display_name": "cuda:nvidia",
   "language": "python",
   "name": "cuda"
  },
  "language_info": {
   "codemirror_mode": {
    "name": "ipython",
    "version": 3
   },
   "file_extension": ".py",
   "mimetype": "text/x-python",
   "name": "python",
   "nbconvert_exporter": "python",
   "pygments_lexer": "ipython3",
   "version": "3.12.3"
  }
 },
 "nbformat": 4,
 "nbformat_minor": 5
}
