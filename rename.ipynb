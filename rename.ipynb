{
 "cells": [
  {
   "cell_type": "code",
   "execution_count": null,
   "id": "da7736ff-730a-4434-ae81-ea9965730018",
   "metadata": {},
   "outputs": [],
   "source": [
    "import os\n",
    "import shutil\n",
    "from tqdm import tqdm"
   ]
  },
  {
   "cell_type": "code",
   "execution_count": null,
   "id": "a67773f3-0c09-497e-a718-1751ad048a54",
   "metadata": {},
   "outputs": [],
   "source": [
    "def mass_rename(file):\n",
    "    i = 1\n",
    "    str: upload_path\n",
    "    base, ext = os.path.splitext(file)\n",
    "\n",
    "    name, label, iid = base.split('_')\n",
    "    new_name = name + '_' + iid + ext\n",
    "    os.rename(file, new_name)\n",
    "    i += 1\n",
    "    upload_path = os.path.join(label)\n",
    "    shutil.copy(new_name, upload_path)"
   ]
  },
  {
   "cell_type": "code",
   "execution_count": null,
   "id": "9c32f2f1-42bc-4d0d-a494-74a5c0a6070b",
   "metadata": {},
   "outputs": [],
   "source": [
    "file_path = os.path.join('test', 'test')\n",
    "for img_file in tqdm(os.listdir(os.path.join(file_path))):\n",
    "    try:\n",
    "        full_path = os.path.join(file_path, img_file)\n",
    "        update = mass_rename(full_path)\n",
    "    except:\n",
    "        print(full_path)"
   ]
  },
  {
   "cell_type": "code",
   "execution_count": null,
   "id": "b45495a5-76e6-4bb9-9deb-b00c3de724af",
   "metadata": {},
   "outputs": [],
   "source": []
  }
 ],
 "metadata": {
  "kernelspec": {
   "display_name": "cuda:nvidia",
   "language": "python",
   "name": "cuda"
  },
  "language_info": {
   "codemirror_mode": {
    "name": "ipython",
    "version": 3
   },
   "file_extension": ".py",
   "mimetype": "text/x-python",
   "name": "python",
   "nbconvert_exporter": "python",
   "pygments_lexer": "ipython3",
   "version": "3.12.3"
  }
 },
 "nbformat": 4,
 "nbformat_minor": 5
}
