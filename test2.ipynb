{
 "cells": [
  {
   "cell_type": "code",
   "execution_count": 10,
   "id": "5c51ecd3-5409-4760-a05d-8ed02ca015d7",
   "metadata": {},
   "outputs": [],
   "source": [
    "import torch\n",
    "import torchvision\n",
    "import torchvision.models as models\n",
    "from torchvision.transforms import v2\n",
    "from torch.utils.data import Dataset, DataLoader\n",
    "import os\n",
    "import cv2"
   ]
  },
  {
   "cell_type": "code",
   "execution_count": 2,
   "id": "77b8a211-f35f-48f6-85de-7df06bed3e4a",
   "metadata": {},
   "outputs": [],
   "source": [
    "from FFTConv import *\n",
    "from ImageHandler import *"
   ]
  },
  {
   "cell_type": "code",
   "execution_count": 3,
   "id": "d3c50604-2ad9-4c2e-8850-5ec8452fdb84",
   "metadata": {},
   "outputs": [],
   "source": [
    "def change_layer(layer):\n",
    "    fft_conv = FFTConvNet(layer, 'low')\n",
    "    return fft_conv"
   ]
  },
  {
   "cell_type": "code",
   "execution_count": 4,
   "id": "32b0cd43-bfd6-489a-8732-91445516d414",
   "metadata": {},
   "outputs": [],
   "source": [
    "model = models.googlenet(weights=None, init_weights=True)\n",
    "model.aux1 = None\n",
    "model.aux2 = None\n",
    "\n",
    "model.fc = nn.Sequential(\n",
    "    nn.Linear(model.fc.in_features, 1024),\n",
    "    nn.LeakyReLU(),\n",
    "    nn.Dropout(p=0.2),\n",
    "    nn.Linear(1024, 3),\n",
    "    nn.LogSoftmax(dim=1)\n",
    ")\n",
    "\n",
    "for name, module in model.named_modules():\n",
    "    if name.startswith('inception') and isinstance(module, nn.Conv2d):\n",
    "        if module.kernel_size[0] > 1:\n",
    "            fft_conv = change_layer(module)\n",
    "            parent_name, attr_name = name.rsplit(\".\", 1)\n",
    "            parent_module = dict(model.named_modules())[parent_name]\n",
    "            setattr(parent_module, attr_name, fft_conv)"
   ]
  },
  {
   "cell_type": "code",
   "execution_count": 5,
   "id": "b286efcc-115f-4e83-baa8-12df106dfecc",
   "metadata": {},
   "outputs": [
    {
     "name": "stderr",
     "output_type": "stream",
     "text": [
      "C:\\Users\\samir\\AppData\\Local\\Temp\\ipykernel_2300\\4086650231.py:1: FutureWarning: You are using `torch.load` with `weights_only=False` (the current default value), which uses the default pickle module implicitly. It is possible to construct malicious pickle data which will execute arbitrary code during unpickling (See https://github.com/pytorch/pytorch/blob/main/SECURITY.md#untrusted-models for more details). In a future release, the default value for `weights_only` will be flipped to `True`. This limits the functions that could be executed during unpickling. Arbitrary objects will no longer be allowed to be loaded via this mode unless they are explicitly allowlisted by the user via `torch.serialization.add_safe_globals`. We recommend you start setting `weights_only=True` for any use case where you don't have full control of the loaded file. Please open an issue on GitHub for any issues related to this experimental feature.\n",
      "  model.load_state_dict(torch.load(os.path.join('models', 'fft_googlenet_final.pth')))\n"
     ]
    },
    {
     "data": {
      "text/plain": [
       "<All keys matched successfully>"
      ]
     },
     "execution_count": 5,
     "metadata": {},
     "output_type": "execute_result"
    }
   ],
   "source": [
    "model.load_state_dict(torch.load(os.path.join('models', 'fft_googlenet_final.pth')))"
   ]
  },
  {
   "cell_type": "code",
   "execution_count": 6,
   "id": "aa423c28-0f23-4e7b-8690-e148d40439f6",
   "metadata": {},
   "outputs": [
    {
     "name": "stdout",
     "output_type": "stream",
     "text": [
      "data\\test_set\\bacterial\n"
     ]
    },
    {
     "name": "stderr",
     "output_type": "stream",
     "text": [
      "100%|███████████████████████████████████████████████████████████████████████████████| 242/242 [00:01<00:00, 146.54it/s]\n"
     ]
    },
    {
     "name": "stdout",
     "output_type": "stream",
     "text": [
      "data\\test_set\\normal\n"
     ]
    },
    {
     "name": "stderr",
     "output_type": "stream",
     "text": [
      "100%|████████████████████████████████████████████████████████████████████████████████| 234/234 [00:06<00:00, 38.73it/s]\n"
     ]
    },
    {
     "name": "stdout",
     "output_type": "stream",
     "text": [
      "data\\test_set\\viral\n"
     ]
    },
    {
     "name": "stderr",
     "output_type": "stream",
     "text": [
      "100%|███████████████████████████████████████████████████████████████████████████████| 148/148 [00:01<00:00, 115.45it/s]\n"
     ]
    }
   ],
   "source": [
    "image_path = os.path.join('data', 'test_set')\n",
    "IMG_SIZE = 128\n",
    "test_data = ImageDataset(image_path)"
   ]
  },
  {
   "cell_type": "code",
   "execution_count": 11,
   "id": "971f1286-b34b-441b-b72d-ce2f931323e2",
   "metadata": {},
   "outputs": [],
   "source": [
    "test_dl = DataLoader(test_data, batch_size=24, shuffle=False)"
   ]
  },
  {
   "cell_type": "code",
   "execution_count": 8,
   "id": "8ab989c4-e488-4ff5-888a-c06f198baee1",
   "metadata": {
    "scrolled": true
   },
   "outputs": [],
   "source": [
    "device = 'cuda'\n",
    "model = model.to(device)"
   ]
  },
  {
   "cell_type": "code",
   "execution_count": 9,
   "id": "b3e1d772-c169-4fc2-945c-33221afcde46",
   "metadata": {},
   "outputs": [],
   "source": [
    "def test(model, test_dl):\n",
    "    corrects = 0\n",
    "    total_entries = 0\n",
    "    model_accuracy = 0\n",
    "    \n",
    "    model.eval()\n",
    "    with torch.no_grad():\n",
    "        for images, labels in tqdm(test_dl):\n",
    "            images = images.to(device)\n",
    "            labels = labels.to(device)\n",
    "            labels = labels.squeeze().long()\n",
    "            outputs = model(images)\n",
    "            _, predictions = torch.max(outputs, 1)\n",
    "\n",
    "            corrects += torch.sum(predictions == labels).item()\n",
    "            total_entries += labels.size(0)\n",
    "        model_accuracy = corrects / total_entries\n",
    "        print(f'Model Accuracy: {model_accuracy}')\n",
    "        \n",
    "    print('Testing Complete')"
   ]
  },
  {
   "cell_type": "code",
   "execution_count": 13,
   "id": "4f295f32-9816-4e4b-b847-cc07d19e372d",
   "metadata": {},
   "outputs": [
    {
     "name": "stderr",
     "output_type": "stream",
     "text": [
      "100%|██████████████████████████████████████████████████████████████████████████████████| 26/26 [00:25<00:00,  1.03it/s]"
     ]
    },
    {
     "name": "stdout",
     "output_type": "stream",
     "text": [
      "Model Accuracy: 0.7884615384615384\n",
      "Testing Complete\n"
     ]
    },
    {
     "name": "stderr",
     "output_type": "stream",
     "text": [
      "\n"
     ]
    }
   ],
   "source": [
    "test(model, test_dl)"
   ]
  },
  {
   "cell_type": "code",
   "execution_count": null,
   "id": "61048245-e8e3-4194-b189-47793e858e39",
   "metadata": {},
   "outputs": [],
   "source": []
  }
 ],
 "metadata": {
  "kernelspec": {
   "display_name": "cuda:nvidia",
   "language": "python",
   "name": "cuda"
  },
  "language_info": {
   "codemirror_mode": {
    "name": "ipython",
    "version": 3
   },
   "file_extension": ".py",
   "mimetype": "text/x-python",
   "name": "python",
   "nbconvert_exporter": "python",
   "pygments_lexer": "ipython3",
   "version": "3.12.3"
  }
 },
 "nbformat": 4,
 "nbformat_minor": 5
}
