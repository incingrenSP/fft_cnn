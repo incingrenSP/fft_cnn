{
 "cells": [
  {
   "cell_type": "code",
   "execution_count": 1,
   "id": "745b857f-7650-4fba-90e1-217880ba52f4",
   "metadata": {},
   "outputs": [],
   "source": [
    "import torch\n",
    "import torch.nn as nn\n",
    "import torch.fft as fft\n",
    "import torchvision\n",
    "import torchvision.models as models\n",
    "from torchvision.transforms import v2\n",
    "from torch.utils.data import Dataset, DataLoader\n",
    "import torch.optim as optim\n",
    "from sklearn.model_selection import train_test_split\n",
    "import matplotlib.pyplot as plt"
   ]
  },
  {
   "cell_type": "code",
   "execution_count": 2,
   "id": "a84f894f-e7c5-4f31-a2f5-72cf67195214",
   "metadata": {},
   "outputs": [],
   "source": [
    "import os\n",
    "import numpy as np\n",
    "import cv2\n",
    "import math\n",
    "from tqdm import tqdm"
   ]
  },
  {
   "cell_type": "code",
   "execution_count": 3,
   "id": "952a1320-6293-4e3c-90bc-8a3a86003fb9",
   "metadata": {},
   "outputs": [],
   "source": [
    "IMG_SIZE = 128\n",
    "device = 'cuda:0' if torch.cuda.is_available() else 'cpu'"
   ]
  },
  {
   "cell_type": "code",
   "execution_count": 4,
   "id": "4db67ae8-7b1d-4659-93b6-ed1f38d618d0",
   "metadata": {},
   "outputs": [],
   "source": [
    "class ImageDataset(Dataset):\n",
    "    def __init__(self, image_path, device):\n",
    "        self.image_path = image_path\n",
    "        self.device = device\n",
    "        self.data = []\n",
    "        self.transform = v2.Compose([\n",
    "            v2.ToImage(),\n",
    "            v2.ToDtype(torch.float32, scale=True),\n",
    "            v2.Resize((IMG_SIZE, IMG_SIZE)),\n",
    "            v2.Normalize(mean=[0.5,], std=[0.5,]),\n",
    "            v2.Grayscale(num_output_channels=3)\n",
    "        ])\n",
    "        self.load_data()\n",
    "\n",
    "    def load_data(self):\n",
    "        for idx, label in enumerate(os.listdir(os.path.join(self.image_path))):\n",
    "            print(os.path.join(self.image_path, label))\n",
    "            for img_file in tqdm(os.listdir(os.path.join(self.image_path, label))):\n",
    "                img = cv2.imread(os.path.join(self.image_path, label, img_file), cv2.IMREAD_GRAYSCALE)\n",
    "\n",
    "                img = self.transform(img)\n",
    "\n",
    "                idx = torch.Tensor([idx])\n",
    "                self.data.append((img, idx))\n",
    "    \n",
    "    def __len__(self):\n",
    "        return len(self.data)\n",
    "\n",
    "    def __getitem__(self, idx):\n",
    "        return self.data[idx]"
   ]
  },
  {
   "cell_type": "code",
   "execution_count": 9,
   "id": "fe7f7e0e-9465-4f89-a215-20d8d6649f56",
   "metadata": {},
   "outputs": [
    {
     "name": "stdout",
     "output_type": "stream",
     "text": [
      "data\\train_set\\bacterial\n"
     ]
    },
    {
     "name": "stderr",
     "output_type": "stream",
     "text": [
      "100%|██████████████████████████████████████████████████████████████████████████████| 3001/3001 [00:53<00:00, 56.01it/s]\n"
     ]
    },
    {
     "name": "stdout",
     "output_type": "stream",
     "text": [
      "data\\train_set\\normal\n"
     ]
    },
    {
     "name": "stderr",
     "output_type": "stream",
     "text": [
      "100%|██████████████████████████████████████████████████████████████████████████████| 3270/3270 [01:26<00:00, 37.91it/s]\n"
     ]
    },
    {
     "name": "stdout",
     "output_type": "stream",
     "text": [
      "data\\train_set\\viral\n"
     ]
    },
    {
     "name": "stderr",
     "output_type": "stream",
     "text": [
      "100%|██████████████████████████████████████████████████████████████████████████████| 2706/2706 [00:34<00:00, 78.21it/s]\n"
     ]
    }
   ],
   "source": [
    "batch_size = 24\n",
    "\n",
    "image_path = os.path.join('data', 'train_set')\n",
    "data = ImageDataset(image_path, device)"
   ]
  },
  {
   "cell_type": "code",
   "execution_count": 10,
   "id": "6522ccb0-7ec7-4c56-9eb5-110b8849cbe1",
   "metadata": {},
   "outputs": [],
   "source": [
    "train_data, val_data = train_test_split(data, test_size=0.1)\n",
    "train_dl = DataLoader(train_data, batch_size, shuffle=True)\n",
    "val_dl = DataLoader(val_data, batch_size, shuffle=True)"
   ]
  },
  {
   "cell_type": "code",
   "execution_count": 11,
   "id": "bf2fc57b-92e0-4c59-8485-1a2bf160b993",
   "metadata": {},
   "outputs": [
    {
     "data": {
      "text/plain": [
       "(8079, 898, 8977)"
      ]
     },
     "execution_count": 11,
     "metadata": {},
     "output_type": "execute_result"
    }
   ],
   "source": [
    "len(train_data), len(val_data), len(data)"
   ]
  },
  {
   "cell_type": "code",
   "execution_count": 12,
   "id": "a664afc7-2898-44f6-9bac-3aa411dd83b8",
   "metadata": {},
   "outputs": [],
   "source": [
    "class FFTConvNet(nn.Module):\n",
    "    def __init__(self, conv_layer, fft_filter=None):\n",
    "        super().__init__()\n",
    "        self.conv_layer = conv_layer  # Original Conv2d layer\n",
    "        self.fft_filter = fft_filter\n",
    "\n",
    "    def fft_filter_def(self, fft_x, height, width):\n",
    "        cht, cwt = height // 2, width // 2\n",
    "        mask_radius = 30\n",
    "\n",
    "        # Create a meshgrid for the mask\n",
    "        fy, fx = torch.meshgrid(\n",
    "            torch.arange(0, height, device=fft_x.device),\n",
    "            torch.arange(0, width, device=fft_x.device),\n",
    "            indexing='ij'\n",
    "        )\n",
    "        mask_area = torch.sqrt((fx - cwt) ** 2 + (fy - cht) ** 2)\n",
    "\n",
    "        # Create the mask based on the filter type\n",
    "        if self.fft_filter == 'high':\n",
    "            mask = (mask_area > mask_radius).float()\n",
    "        else:\n",
    "            mask = (mask_area <= mask_radius).float()\n",
    "\n",
    "        # Apply the mask to the FFT of the input\n",
    "        filtered_fft = fft_x * mask\n",
    "        return filtered_fft\n",
    "\n",
    "    def forward(self, x):\n",
    "        batch_size, in_channels, height, width = x.size()\n",
    "        out_channels = self.conv_layer.out_channels  # Number of output channels\n",
    "\n",
    "        # Apply FFT on input image\n",
    "        fft_x = fft.fft2(x)  # Shape: [batch_size, in_channels, height, width]\n",
    "        fft_x = fft.fftshift(fft_x)\n",
    "\n",
    "        # Apply FFT on the convolutional kernel\n",
    "        kernel_fft = fft.fft2(self.conv_layer.weight, s=(height, width))  # Shape: [out_channels, in_channels, height, width]\n",
    "        kernel_fft = fft.fftshift(kernel_fft)\n",
    "\n",
    "        # Apply FFT filter (low-pass or high-pass)\n",
    "        if self.fft_filter is not None:\n",
    "            fft_x = self.fft_filter_def(fft_x, height, width)\n",
    "\n",
    "        # Perform element-wise complex multiplication\n",
    "        fft_output = fft_x.unsqueeze(1) * kernel_fft.unsqueeze(0)  # Broadcast multiplication\n",
    "        fft_output = torch.sum(fft_output, dim=2)  # Sum over input channels\n",
    "\n",
    "        # Apply inverse FFT\n",
    "        fft_output = fft.ifftshift(fft_output, dim=(-2, -1))\n",
    "        spatial_output = fft.ifft2(fft_output, dim=(-2, -1)).real  # Shape: [batch_size, out_channels, height, width]\n",
    "\n",
    "        # Add bias (if applicable)\n",
    "        if self.conv_layer.bias is not None:\n",
    "            spatial_output += self.conv_layer.bias.view(1, -1, 1, 1)\n",
    "\n",
    "        # Debug: Print shapes\n",
    "        # print(f\"Input shape: {x.shape}\")\n",
    "        # print(f\"Output shape: {spatial_output.shape}\")\n",
    "\n",
    "        # Return output\n",
    "        return spatial_output"
   ]
  },
  {
   "cell_type": "code",
   "execution_count": 13,
   "id": "a8c62d81-4145-405c-9537-99c1d6c15c13",
   "metadata": {},
   "outputs": [],
   "source": [
    "# Function to replace Conv2d with FFTConvNet\n",
    "def change_layer(layer):\n",
    "    fft_conv = FFTConvNet(layer, 'low')\n",
    "    return fft_conv"
   ]
  },
  {
   "cell_type": "code",
   "execution_count": 14,
   "id": "3fe29d35-b0ba-45a2-b652-4be8fb5fe85a",
   "metadata": {},
   "outputs": [],
   "source": [
    "# Load GoogleNet\n",
    "learning_rate = 0.001\n",
    "weight_decay = 0.000001\n",
    "\n",
    "model = models.googlenet(weights=None, init_weights=True)\n",
    "\n",
    "# Disable auxiliary branches\n",
    "model.aux1 = None\n",
    "model.aux2 = None\n",
    "\n",
    "# Modify the fully connected layer\n",
    "model.fc = nn.Sequential(\n",
    "    nn.Linear(model.fc.in_features, 1024),\n",
    "    nn.LeakyReLU(),\n",
    "    nn.Dropout(p=0.2),\n",
    "    nn.Linear(1024, 3),\n",
    "    nn.LogSoftmax(dim=1)\n",
    ")\n",
    "\n",
    "# Replace Conv2d layers with FFTConvNet\n",
    "for name, module in model.named_modules():\n",
    "    if name.startswith('inception') and isinstance(module, nn.Conv2d):\n",
    "        # Replace only layers with kernel size > 1x1\n",
    "        if module.kernel_size[0] > 1:\n",
    "            fft_conv = change_layer(module).to(device)  # Move to GPU\n",
    "            parent_name, attr_name = name.rsplit(\".\", 1)\n",
    "            parent_module = dict(model.named_modules())[parent_name]\n",
    "            setattr(parent_module, attr_name, fft_conv)\n",
    "\n",
    "# Move the model to the GPU\n",
    "model = model.to(device)"
   ]
  },
  {
   "cell_type": "code",
   "execution_count": 17,
   "id": "0d7d6c61-deb2-49a4-9571-d6d64d6bdaa6",
   "metadata": {
    "scrolled": true
   },
   "outputs": [
    {
     "data": {
      "text/plain": [
       "Inception(\n",
       "  (branch1): BasicConv2d(\n",
       "    (conv): Conv2d(192, 64, kernel_size=(1, 1), stride=(1, 1), bias=False)\n",
       "    (bn): BatchNorm2d(64, eps=0.001, momentum=0.1, affine=True, track_running_stats=True)\n",
       "  )\n",
       "  (branch2): Sequential(\n",
       "    (0): BasicConv2d(\n",
       "      (conv): Conv2d(192, 96, kernel_size=(1, 1), stride=(1, 1), bias=False)\n",
       "      (bn): BatchNorm2d(96, eps=0.001, momentum=0.1, affine=True, track_running_stats=True)\n",
       "    )\n",
       "    (1): BasicConv2d(\n",
       "      (conv): FFTConvNet(\n",
       "        (conv_layer): Conv2d(96, 128, kernel_size=(3, 3), stride=(1, 1), padding=(1, 1), bias=False)\n",
       "      )\n",
       "      (bn): BatchNorm2d(128, eps=0.001, momentum=0.1, affine=True, track_running_stats=True)\n",
       "    )\n",
       "  )\n",
       "  (branch3): Sequential(\n",
       "    (0): BasicConv2d(\n",
       "      (conv): Conv2d(192, 16, kernel_size=(1, 1), stride=(1, 1), bias=False)\n",
       "      (bn): BatchNorm2d(16, eps=0.001, momentum=0.1, affine=True, track_running_stats=True)\n",
       "    )\n",
       "    (1): BasicConv2d(\n",
       "      (conv): FFTConvNet(\n",
       "        (conv_layer): Conv2d(16, 32, kernel_size=(3, 3), stride=(1, 1), padding=(1, 1), bias=False)\n",
       "      )\n",
       "      (bn): BatchNorm2d(32, eps=0.001, momentum=0.1, affine=True, track_running_stats=True)\n",
       "    )\n",
       "  )\n",
       "  (branch4): Sequential(\n",
       "    (0): MaxPool2d(kernel_size=3, stride=1, padding=1, dilation=1, ceil_mode=True)\n",
       "    (1): BasicConv2d(\n",
       "      (conv): Conv2d(192, 32, kernel_size=(1, 1), stride=(1, 1), bias=False)\n",
       "      (bn): BatchNorm2d(32, eps=0.001, momentum=0.1, affine=True, track_running_stats=True)\n",
       "    )\n",
       "  )\n",
       ")"
      ]
     },
     "execution_count": 17,
     "metadata": {},
     "output_type": "execute_result"
    }
   ],
   "source": [
    "model.inception3a"
   ]
  },
  {
   "cell_type": "code",
   "execution_count": 18,
   "id": "62980b8f-377c-4f26-a65a-e51a9391f35d",
   "metadata": {},
   "outputs": [
    {
     "name": "stdout",
     "output_type": "stream",
     "text": [
      "Adam (\n",
      "Parameter Group 0\n",
      "    amsgrad: False\n",
      "    betas: (0.9, 0.999)\n",
      "    capturable: False\n",
      "    differentiable: False\n",
      "    eps: 1e-08\n",
      "    foreach: None\n",
      "    fused: None\n",
      "    lr: 0.001\n",
      "    maximize: False\n",
      "    weight_decay: 1e-06\n",
      ") CrossEntropyLoss()\n"
     ]
    }
   ],
   "source": [
    "optimizer = optim.Adam(model.parameters(), learning_rate, weight_decay=weight_decay)\n",
    "loss_fn = nn.CrossEntropyLoss()\n",
    "\n",
    "print(optimizer, loss_fn)"
   ]
  },
  {
   "cell_type": "code",
   "execution_count": 20,
   "id": "edfd4fc0-3925-4c7e-9818-a146b79bdf83",
   "metadata": {},
   "outputs": [],
   "source": [
    "def train(model, train_dl, loss_fn, optimizer, epochs):\n",
    "    best_acc = 0.0\n",
    "    model.train()\n",
    "    for epoch in range(epochs):\n",
    "        print(f\"Epoch [{epoch+1}/{epochs}]\")\n",
    "        running_loss = 0.0\n",
    "        running_corrects = 0\n",
    "        total_samples = 0\n",
    "\n",
    "        for images, labels in tqdm(train_dl):\n",
    "            # print(\"Data loaded\")\n",
    "\n",
    "            # Move data to GPU\n",
    "            labels = labels.squeeze().long()\n",
    "            images = images.to(device)\n",
    "            labels = labels.to(device)\n",
    "            # print(\"Data moved to GPU\")\n",
    "\n",
    "            # Forward pass\n",
    "            outputs = model(images)\n",
    "            # print(\"Forward pass completed\")\n",
    "\n",
    "            # Compute loss\n",
    "            loss = loss_fn(outputs[0], labels)\n",
    "            # print(\"Loss computed\")\n",
    "\n",
    "            # Backward pass and optimization\n",
    "            optimizer.zero_grad()\n",
    "            loss.backward()\n",
    "            optimizer.step()\n",
    "            # print(\"Backward pass completed\")\n",
    "\n",
    "            # Compute metrics\n",
    "            _, preds = torch.max(outputs[0], 1)\n",
    "            running_loss += loss.item() * images.size(0)\n",
    "            running_corrects += torch.sum(preds == labels.data)\n",
    "            total_samples += labels.size(0)\n",
    "            \n",
    "        epoch_loss = running_loss / total_samples\n",
    "        epoch_acc = running_corrects / total_samples\n",
    "        print(f\"Epoch Loss: {epoch_loss:.4f}, Epoch Accuracy: {epoch_acc:.4f}\")\n",
    "    print('Training Complete.')"
   ]
  },
  {
   "cell_type": "code",
   "execution_count": 21,
   "id": "3eaec969-469a-48ac-b43e-b9ac31bed22e",
   "metadata": {},
   "outputs": [
    {
     "name": "stdout",
     "output_type": "stream",
     "text": [
      "Epoch [1/20]\n"
     ]
    },
    {
     "name": "stderr",
     "output_type": "stream",
     "text": [
      "100%|████████████████████████████████████████████████████████████████████████████████| 337/337 [16:32<00:00,  2.95s/it]\n"
     ]
    },
    {
     "name": "stdout",
     "output_type": "stream",
     "text": [
      "Epoch Loss: 0.7808, Epoch Accuracy: 0.5969\n",
      "Epoch [2/20]\n"
     ]
    },
    {
     "name": "stderr",
     "output_type": "stream",
     "text": [
      "100%|████████████████████████████████████████████████████████████████████████████████| 337/337 [16:30<00:00,  2.94s/it]\n"
     ]
    },
    {
     "name": "stdout",
     "output_type": "stream",
     "text": [
      "Epoch Loss: 0.6613, Epoch Accuracy: 0.6552\n",
      "Epoch [3/20]\n"
     ]
    },
    {
     "name": "stderr",
     "output_type": "stream",
     "text": [
      "100%|████████████████████████████████████████████████████████████████████████████████| 337/337 [16:30<00:00,  2.94s/it]\n"
     ]
    },
    {
     "name": "stdout",
     "output_type": "stream",
     "text": [
      "Epoch Loss: 0.5905, Epoch Accuracy: 0.7241\n",
      "Epoch [4/20]\n"
     ]
    },
    {
     "name": "stderr",
     "output_type": "stream",
     "text": [
      "100%|████████████████████████████████████████████████████████████████████████████████| 337/337 [16:30<00:00,  2.94s/it]\n"
     ]
    },
    {
     "name": "stdout",
     "output_type": "stream",
     "text": [
      "Epoch Loss: 0.5393, Epoch Accuracy: 0.7583\n",
      "Epoch [5/20]\n"
     ]
    },
    {
     "name": "stderr",
     "output_type": "stream",
     "text": [
      "100%|████████████████████████████████████████████████████████████████████████████████| 337/337 [16:30<00:00,  2.94s/it]\n"
     ]
    },
    {
     "name": "stdout",
     "output_type": "stream",
     "text": [
      "Epoch Loss: 0.5020, Epoch Accuracy: 0.7851\n",
      "Epoch [6/20]\n"
     ]
    },
    {
     "name": "stderr",
     "output_type": "stream",
     "text": [
      "100%|████████████████████████████████████████████████████████████████████████████████| 337/337 [16:30<00:00,  2.94s/it]\n"
     ]
    },
    {
     "name": "stdout",
     "output_type": "stream",
     "text": [
      "Epoch Loss: 0.4754, Epoch Accuracy: 0.7896\n",
      "Epoch [7/20]\n"
     ]
    },
    {
     "name": "stderr",
     "output_type": "stream",
     "text": [
      "100%|████████████████████████████████████████████████████████████████████████████████| 337/337 [16:30<00:00,  2.94s/it]\n"
     ]
    },
    {
     "name": "stdout",
     "output_type": "stream",
     "text": [
      "Epoch Loss: 0.4614, Epoch Accuracy: 0.7996\n",
      "Epoch [8/20]\n"
     ]
    },
    {
     "name": "stderr",
     "output_type": "stream",
     "text": [
      "100%|████████████████████████████████████████████████████████████████████████████████| 337/337 [16:30<00:00,  2.94s/it]\n"
     ]
    },
    {
     "name": "stdout",
     "output_type": "stream",
     "text": [
      "Epoch Loss: 0.4458, Epoch Accuracy: 0.8023\n",
      "Epoch [9/20]\n"
     ]
    },
    {
     "name": "stderr",
     "output_type": "stream",
     "text": [
      "100%|████████████████████████████████████████████████████████████████████████████████| 337/337 [16:18<00:00,  2.90s/it]\n"
     ]
    },
    {
     "name": "stdout",
     "output_type": "stream",
     "text": [
      "Epoch Loss: 0.4319, Epoch Accuracy: 0.8112\n",
      "Epoch [10/20]\n"
     ]
    },
    {
     "name": "stderr",
     "output_type": "stream",
     "text": [
      "100%|████████████████████████████████████████████████████████████████████████████████| 337/337 [16:28<00:00,  2.93s/it]\n"
     ]
    },
    {
     "name": "stdout",
     "output_type": "stream",
     "text": [
      "Epoch Loss: 0.4259, Epoch Accuracy: 0.8143\n",
      "Epoch [11/20]\n"
     ]
    },
    {
     "name": "stderr",
     "output_type": "stream",
     "text": [
      "100%|████████████████████████████████████████████████████████████████████████████████| 337/337 [16:29<00:00,  2.94s/it]\n"
     ]
    },
    {
     "name": "stdout",
     "output_type": "stream",
     "text": [
      "Epoch Loss: 0.4025, Epoch Accuracy: 0.8249\n",
      "Epoch [12/20]\n"
     ]
    },
    {
     "name": "stderr",
     "output_type": "stream",
     "text": [
      "100%|████████████████████████████████████████████████████████████████████████████████| 337/337 [16:29<00:00,  2.93s/it]\n"
     ]
    },
    {
     "name": "stdout",
     "output_type": "stream",
     "text": [
      "Epoch Loss: 0.4043, Epoch Accuracy: 0.8251\n",
      "Epoch [13/20]\n"
     ]
    },
    {
     "name": "stderr",
     "output_type": "stream",
     "text": [
      "100%|████████████████████████████████████████████████████████████████████████████████| 337/337 [16:29<00:00,  2.94s/it]\n"
     ]
    },
    {
     "name": "stdout",
     "output_type": "stream",
     "text": [
      "Epoch Loss: 0.4014, Epoch Accuracy: 0.8258\n",
      "Epoch [14/20]\n"
     ]
    },
    {
     "name": "stderr",
     "output_type": "stream",
     "text": [
      "100%|████████████████████████████████████████████████████████████████████████████████| 337/337 [16:28<00:00,  2.93s/it]\n"
     ]
    },
    {
     "name": "stdout",
     "output_type": "stream",
     "text": [
      "Epoch Loss: 0.3764, Epoch Accuracy: 0.8360\n",
      "Epoch [15/20]\n"
     ]
    },
    {
     "name": "stderr",
     "output_type": "stream",
     "text": [
      "100%|████████████████████████████████████████████████████████████████████████████████| 337/337 [16:29<00:00,  2.93s/it]\n"
     ]
    },
    {
     "name": "stdout",
     "output_type": "stream",
     "text": [
      "Epoch Loss: 0.3799, Epoch Accuracy: 0.8357\n",
      "Epoch [16/20]\n"
     ]
    },
    {
     "name": "stderr",
     "output_type": "stream",
     "text": [
      "100%|████████████████████████████████████████████████████████████████████████████████| 337/337 [16:29<00:00,  2.93s/it]\n"
     ]
    },
    {
     "name": "stdout",
     "output_type": "stream",
     "text": [
      "Epoch Loss: 0.3735, Epoch Accuracy: 0.8406\n",
      "Epoch [17/20]\n"
     ]
    },
    {
     "name": "stderr",
     "output_type": "stream",
     "text": [
      "100%|████████████████████████████████████████████████████████████████████████████████| 337/337 [16:29<00:00,  2.94s/it]\n"
     ]
    },
    {
     "name": "stdout",
     "output_type": "stream",
     "text": [
      "Epoch Loss: 0.3598, Epoch Accuracy: 0.8454\n",
      "Epoch [18/20]\n"
     ]
    },
    {
     "name": "stderr",
     "output_type": "stream",
     "text": [
      "100%|████████████████████████████████████████████████████████████████████████████████| 337/337 [16:29<00:00,  2.94s/it]\n"
     ]
    },
    {
     "name": "stdout",
     "output_type": "stream",
     "text": [
      "Epoch Loss: 0.3482, Epoch Accuracy: 0.8523\n",
      "Epoch [19/20]\n"
     ]
    },
    {
     "name": "stderr",
     "output_type": "stream",
     "text": [
      "100%|████████████████████████████████████████████████████████████████████████████████| 337/337 [16:28<00:00,  2.93s/it]\n"
     ]
    },
    {
     "name": "stdout",
     "output_type": "stream",
     "text": [
      "Epoch Loss: 0.3310, Epoch Accuracy: 0.8574\n",
      "Epoch [20/20]\n"
     ]
    },
    {
     "name": "stderr",
     "output_type": "stream",
     "text": [
      "100%|████████████████████████████████████████████████████████████████████████████████| 337/337 [16:08<00:00,  2.87s/it]"
     ]
    },
    {
     "name": "stdout",
     "output_type": "stream",
     "text": [
      "Epoch Loss: 0.3218, Epoch Accuracy: 0.8616\n",
      "Training Complete.\n"
     ]
    },
    {
     "name": "stderr",
     "output_type": "stream",
     "text": [
      "\n"
     ]
    }
   ],
   "source": [
    "train(model, train_dl, loss_fn, optimizer, epochs=20)"
   ]
  },
  {
   "cell_type": "code",
   "execution_count": 22,
   "id": "1a3d64e0-f4ca-4bde-bf66-4d712c530849",
   "metadata": {},
   "outputs": [],
   "source": [
    "torch.save(model.state_dict(), os.path.join('models', 'fft_googlenet_final.pth'))"
   ]
  },
  {
   "cell_type": "code",
   "execution_count": 28,
   "id": "cbae4359-6ce7-452d-9b94-3c6a4becbcbf",
   "metadata": {},
   "outputs": [],
   "source": [
    "def validate(model, val_dl):\n",
    "    corrects = 0\n",
    "    total_entries = 0\n",
    "    model_accuracy = 0\n",
    "    \n",
    "    model.eval()\n",
    "    with torch.no_grad():\n",
    "        for images, labels in tqdm(val_dl):\n",
    "            images = images.to(device)\n",
    "            labels = labels.to(device)\n",
    "            labels = labels.squeeze().long()\n",
    "            outputs = model(images)\n",
    "            _, predictions = torch.max(outputs, 1)\n",
    "\n",
    "            corrects += torch.sum(predictions == labels).item()\n",
    "            total_entries += labels.size(0)\n",
    "        model_accuracy = corrects / total_entries\n",
    "        print(f'Model Accuracy: {model_accuracy}')\n",
    "        \n",
    "    print('Validation Complete')"
   ]
  },
  {
   "cell_type": "code",
   "execution_count": 29,
   "id": "d81c31a7-9925-43c1-9b68-84797e1b0e62",
   "metadata": {},
   "outputs": [
    {
     "name": "stderr",
     "output_type": "stream",
     "text": [
      "100%|██████████████████████████████████████████████████████████████████████████████████| 38/38 [00:35<00:00,  1.07it/s]"
     ]
    },
    {
     "name": "stdout",
     "output_type": "stream",
     "text": [
      "Model Accuracy: 0.8585746102449888\n",
      "Validation Complete\n"
     ]
    },
    {
     "name": "stderr",
     "output_type": "stream",
     "text": [
      "\n"
     ]
    }
   ],
   "source": [
    "validate(model, val_dl)"
   ]
  },
  {
   "cell_type": "code",
   "execution_count": null,
   "id": "759f16a5-be19-4d35-9355-3c3ffe93fcd6",
   "metadata": {},
   "outputs": [],
   "source": []
  }
 ],
 "metadata": {
  "kernelspec": {
   "display_name": "cuda:nvidia",
   "language": "python",
   "name": "cuda"
  },
  "language_info": {
   "codemirror_mode": {
    "name": "ipython",
    "version": 3
   },
   "file_extension": ".py",
   "mimetype": "text/x-python",
   "name": "python",
   "nbconvert_exporter": "python",
   "pygments_lexer": "ipython3",
   "version": "3.12.3"
  }
 },
 "nbformat": 4,
 "nbformat_minor": 5
}
