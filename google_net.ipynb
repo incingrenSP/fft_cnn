{
 "cells": [
  {
   "cell_type": "code",
   "execution_count": 1,
   "id": "745b857f-7650-4fba-90e1-217880ba52f4",
   "metadata": {},
   "outputs": [],
   "source": [
    "import torch\n",
    "import torch.nn as nn\n",
    "import torch.fft as fft\n",
    "import torchvision\n",
    "import torchvision.models as models\n",
    "from torchvision.transforms import v2\n",
    "from torch.utils.data import Dataset, DataLoader\n",
    "import torch.optim as optim\n",
    "import matplotlib.pyplot as plt"
   ]
  },
  {
   "cell_type": "code",
   "execution_count": 2,
   "id": "a84f894f-e7c5-4f31-a2f5-72cf67195214",
   "metadata": {},
   "outputs": [],
   "source": [
    "import os\n",
    "import numpy as np\n",
    "import cv2\n",
    "import math\n",
    "from tqdm import tqdm"
   ]
  },
  {
   "cell_type": "code",
   "execution_count": 3,
   "id": "952a1320-6293-4e3c-90bc-8a3a86003fb9",
   "metadata": {},
   "outputs": [],
   "source": [
    "IMG_SIZE = 128\n",
    "device = 'cuda:0' if torch.cuda.is_available() else 'cpu'"
   ]
  },
  {
   "cell_type": "code",
   "execution_count": 4,
   "id": "4db67ae8-7b1d-4659-93b6-ed1f38d618d0",
   "metadata": {},
   "outputs": [],
   "source": [
    "class ImageDataset(Dataset):\n",
    "    def __init__(self, image_path, device):\n",
    "        self.image_path = image_path\n",
    "        self.device = device\n",
    "        self.data = []\n",
    "        self.transform = v2.Compose([\n",
    "            v2.ToImage(),\n",
    "            v2.ToDtype(torch.float32, scale=True),\n",
    "            v2.Resize((IMG_SIZE, IMG_SIZE)),\n",
    "            v2.Normalize(mean=[0.5,], std=[0.5,]),\n",
    "            v2.Grayscale(num_output_channels=3)\n",
    "        ])\n",
    "        self.load_data()\n",
    "\n",
    "    def load_data(self):\n",
    "        for idx, label in enumerate(os.listdir(os.path.join(self.image_path))):\n",
    "            print(os.path.join(self.image_path, label))\n",
    "            for img_file in tqdm(os.listdir(os.path.join(self.image_path, label))):\n",
    "                img = cv2.imread(os.path.join(self.image_path, label, img_file), cv2.IMREAD_GRAYSCALE)\n",
    "\n",
    "                img = self.transform(img)\n",
    "\n",
    "                idx = torch.Tensor([idx])\n",
    "                self.data.append((img.to(device), idx.to(device)))\n",
    "    \n",
    "    def __len__(self):\n",
    "        return len(self.data)\n",
    "\n",
    "    def __getitem__(self, idx):\n",
    "        return self.data[idx]"
   ]
  },
  {
   "cell_type": "code",
   "execution_count": 5,
   "id": "fe7f7e0e-9465-4f89-a215-20d8d6649f56",
   "metadata": {},
   "outputs": [
    {
     "name": "stdout",
     "output_type": "stream",
     "text": [
      "data\\train_set\\bacterial\n"
     ]
    },
    {
     "name": "stderr",
     "output_type": "stream",
     "text": [
      "100%|██████████████████████████████████████████████████████████████████████████████| 3001/3001 [01:02<00:00, 47.70it/s]\n"
     ]
    },
    {
     "name": "stdout",
     "output_type": "stream",
     "text": [
      "data\\train_set\\normal\n"
     ]
    },
    {
     "name": "stderr",
     "output_type": "stream",
     "text": [
      "100%|██████████████████████████████████████████████████████████████████████████████| 3270/3270 [01:28<00:00, 36.90it/s]\n"
     ]
    },
    {
     "name": "stdout",
     "output_type": "stream",
     "text": [
      "data\\train_set\\viral\n"
     ]
    },
    {
     "name": "stderr",
     "output_type": "stream",
     "text": [
      "100%|██████████████████████████████████████████████████████████████████████████████| 1656/1656 [00:32<00:00, 51.56it/s]\n"
     ]
    }
   ],
   "source": [
    "batch_size = 24\n",
    "\n",
    "image_path = os.path.join('data', 'train_set')\n",
    "train_data = ImageDataset(image_path, device)\n",
    "train_dl = DataLoader(train_data, batch_size, shuffle=True)\n",
    "# image_path = os.path.join('data', 'test_set')\n",
    "# test_data = ImageDataset(image_path, device)"
   ]
  },
  {
   "cell_type": "code",
   "execution_count": 6,
   "id": "13d32d40-0885-43b3-825d-eac7541ee03f",
   "metadata": {},
   "outputs": [],
   "source": [
    "class FFTConvNet(nn.Module):\n",
    "    def __init__(self, conv_layer, fft_filter=None):\n",
    "        super().__init__()\n",
    "        self.conv_layer = conv_layer\n",
    "        self.fft_filter = fft_filter\n",
    "\n",
    "    def fft_filter_def(self, fft_x, height, width, device):\n",
    "        cht, cwt = height//2, width//2\n",
    "        mask_radius = 30\n",
    "        \n",
    "        mask = torch.zeros((height, width))\n",
    "        fy, fx = torch.meshgrid(torch.arange(0, height, device=device),\n",
    "                                torch.arange(0, width, device=device),\n",
    "                                indexing='ij')\n",
    "        mask_area = torch.sqrt((fx - cwt)**2 + (fy - cht)**2)\n",
    "\n",
    "        if self.fft_filter == 'high':\n",
    "            mask = (mask_area > mask_radius).float()\n",
    "        else:\n",
    "            mask = (mask_area <= mask_radius).float()\n",
    "        filtered_fft = fft_x * mask\n",
    "        \n",
    "        return filtered_fft\n",
    "\n",
    "    def forward(self, x):\n",
    "        batch_size, channels, height, width = x.size()\n",
    "        \n",
    "        # apply fft on input image\n",
    "        fft_x = fft.fft2(x)\n",
    "        fft_x = fft.fftshift(fft_x)\n",
    "\n",
    "        kernel_fft = fft.fft2(self.conv_layer.weight, s=(height, width))\n",
    "        kernel_fft = fft.fftshift(kernel_fft)\n",
    "\n",
    "        # apply fft filter (low pass)\n",
    "        if self.fft_filter is not None:\n",
    "            fft_x = self.fft_filter_def(fft_x, height, width, x.device)\n",
    "        \n",
    "        # perform element wise complex multiplcation\n",
    "        # fft_output = torch.sum(fft_x * kernel_fft, dim=2)\n",
    "\n",
    "        # trying einstein summation notation for implementing element wise complex multiplcation instead\n",
    "        fft_output = torch.einsum('bixy,oixy->boxy', fft_x, kernel_fft)\n",
    "        \n",
    "        # apply inverse fft\n",
    "        fft_output = fft.ifftshift(fft_output, dim=(-2,-1))\n",
    "        spatial_output = fft.ifft2(fft_output, dim=(-2,-1)).real\n",
    "        \n",
    "        # return output\n",
    "        return spatial_output"
   ]
  },
  {
   "cell_type": "code",
   "execution_count": 11,
   "id": "a8c62d81-4145-405c-9537-99c1d6c15c13",
   "metadata": {},
   "outputs": [],
   "source": [
    "def change_layer(layer):\n",
    "    fft_conv = FFTConvNet(layer, 'low')\n",
    "    return fft_conv"
   ]
  },
  {
   "cell_type": "code",
   "execution_count": 12,
   "id": "3fe29d35-b0ba-45a2-b652-4be8fb5fe85a",
   "metadata": {},
   "outputs": [],
   "source": [
    "# googlenet\n",
    "learning_rate = 0.001\n",
    "weight_decay = 0.000001\n",
    "\n",
    "model = models.googlenet(weights=None, init_weights=True)\n",
    "\n",
    "# disable auxillary branches since we're working with size of images lower than 256\n",
    "model.aux1 = None\n",
    "model.aux2 = None\n",
    "\n",
    "model.fc = nn.Sequential(\n",
    "    nn.Linear(model.fc.in_features, 1024),\n",
    "    nn.LeakyReLU(),\n",
    "    nn.Dropout(p=0.2),\n",
    "    nn.Linear(1024, 3),\n",
    "    nn.LogSoftmax(dim=1)\n",
    ")\n",
    "\n",
    "for name, module in model.named_modules():\n",
    "    if name.startswith('inception') and isinstance(module, nn.Conv2d):\n",
    "        fft_conv = change_layer(module)\n",
    "        \n",
    "        parent_name, attr_name = name.rsplit(\".\", 1)\n",
    "        parent_module = dict(model.named_modules())[parent_name]\n",
    "        \n",
    "        setattr(parent_module, attr_name, fft_conv)\n",
    "\n",
    "model = model.to(device)"
   ]
  },
  {
   "cell_type": "code",
   "execution_count": 13,
   "id": "0d7d6c61-deb2-49a4-9571-d6d64d6bdaa6",
   "metadata": {
    "scrolled": true
   },
   "outputs": [
    {
     "data": {
      "text/plain": [
       "Inception(\n",
       "  (branch1): BasicConv2d(\n",
       "    (conv): FFTConvNet(\n",
       "      (conv_layer): Conv2d(192, 64, kernel_size=(1, 1), stride=(1, 1), bias=False)\n",
       "    )\n",
       "    (bn): BatchNorm2d(64, eps=0.001, momentum=0.1, affine=True, track_running_stats=True)\n",
       "  )\n",
       "  (branch2): Sequential(\n",
       "    (0): BasicConv2d(\n",
       "      (conv): FFTConvNet(\n",
       "        (conv_layer): Conv2d(192, 96, kernel_size=(1, 1), stride=(1, 1), bias=False)\n",
       "      )\n",
       "      (bn): BatchNorm2d(96, eps=0.001, momentum=0.1, affine=True, track_running_stats=True)\n",
       "    )\n",
       "    (1): BasicConv2d(\n",
       "      (conv): FFTConvNet(\n",
       "        (conv_layer): Conv2d(96, 128, kernel_size=(3, 3), stride=(1, 1), padding=(1, 1), bias=False)\n",
       "      )\n",
       "      (bn): BatchNorm2d(128, eps=0.001, momentum=0.1, affine=True, track_running_stats=True)\n",
       "    )\n",
       "  )\n",
       "  (branch3): Sequential(\n",
       "    (0): BasicConv2d(\n",
       "      (conv): FFTConvNet(\n",
       "        (conv_layer): Conv2d(192, 16, kernel_size=(1, 1), stride=(1, 1), bias=False)\n",
       "      )\n",
       "      (bn): BatchNorm2d(16, eps=0.001, momentum=0.1, affine=True, track_running_stats=True)\n",
       "    )\n",
       "    (1): BasicConv2d(\n",
       "      (conv): FFTConvNet(\n",
       "        (conv_layer): Conv2d(16, 32, kernel_size=(3, 3), stride=(1, 1), padding=(1, 1), bias=False)\n",
       "      )\n",
       "      (bn): BatchNorm2d(32, eps=0.001, momentum=0.1, affine=True, track_running_stats=True)\n",
       "    )\n",
       "  )\n",
       "  (branch4): Sequential(\n",
       "    (0): MaxPool2d(kernel_size=3, stride=1, padding=1, dilation=1, ceil_mode=True)\n",
       "    (1): BasicConv2d(\n",
       "      (conv): FFTConvNet(\n",
       "        (conv_layer): Conv2d(192, 32, kernel_size=(1, 1), stride=(1, 1), bias=False)\n",
       "      )\n",
       "      (bn): BatchNorm2d(32, eps=0.001, momentum=0.1, affine=True, track_running_stats=True)\n",
       "    )\n",
       "  )\n",
       ")"
      ]
     },
     "execution_count": 13,
     "metadata": {},
     "output_type": "execute_result"
    }
   ],
   "source": [
    "model.inception3a"
   ]
  },
  {
   "cell_type": "code",
   "execution_count": 14,
   "id": "62980b8f-377c-4f26-a65a-e51a9391f35d",
   "metadata": {},
   "outputs": [
    {
     "name": "stdout",
     "output_type": "stream",
     "text": [
      "Adam (\n",
      "Parameter Group 0\n",
      "    amsgrad: False\n",
      "    betas: (0.9, 0.999)\n",
      "    capturable: False\n",
      "    differentiable: False\n",
      "    eps: 1e-08\n",
      "    foreach: None\n",
      "    fused: None\n",
      "    lr: 0.001\n",
      "    maximize: False\n",
      "    weight_decay: 1e-06\n",
      ") CrossEntropyLoss()\n"
     ]
    }
   ],
   "source": [
    "optimizer = optim.Adam(model.parameters(), learning_rate, weight_decay=weight_decay)\n",
    "loss_fn = nn.CrossEntropyLoss()\n",
    "\n",
    "print(optimizer, loss_fn)"
   ]
  },
  {
   "cell_type": "code",
   "execution_count": 15,
   "id": "2ff773fc-5651-473e-90ac-912f0559b648",
   "metadata": {},
   "outputs": [],
   "source": [
    "def train(model, train_dl, loss_fn, optimizer, epochs):\n",
    "    best_accuracy = 0.0\n",
    "\n",
    "    model.train()\n",
    "    for epoch in range(epochs):\n",
    "        print(f'Epoch: {epoch+1}')\n",
    "        running_loss = 0\n",
    "        running_corrects = 0\n",
    "        total_entries = 0\n",
    "\n",
    "        for images, labels in tqdm(train_dl):\n",
    "            labels = labels.squeeze().long()\n",
    "            optimizer.zero_grad()\n",
    "            outputs = model(images)\n",
    "\n",
    "            loss = loss_fn(outputs[0], labels)\n",
    "            _, prediction = torch.max(outputs[0], 1)\n",
    "\n",
    "            loss.backward()\n",
    "            optimizer.step()\n",
    "\n",
    "            running_loss += loss.item() * images.size(0)\n",
    "            running_corrects += torch.sum((prediction == labels)).item()\n",
    "            total_entries += labels.size(0)\n",
    "\n",
    "        epoch_loss = running_loss / total_entries\n",
    "        epoch_accuracy = running_corrects / total_entries\n",
    "        print(f'Epoch Loss: {epoch_loss:0.4f}\\tEpoch Accuracy:{epoch_accuracy:0.4f}')\n",
    "\n",
    "        if epoch_accuracy > best_accuracy:\n",
    "            best_accuracy = epoch_accuracy\n",
    "            torch.save(model.state_dict(), 'fft_google_model_e1.pth')\n",
    "\n",
    "    print('Training Complete.')"
   ]
  },
  {
   "cell_type": "code",
   "execution_count": 16,
   "id": "3eaec969-469a-48ac-b43e-b9ac31bed22e",
   "metadata": {},
   "outputs": [
    {
     "name": "stdout",
     "output_type": "stream",
     "text": [
      "Epoch: 1\n"
     ]
    },
    {
     "name": "stderr",
     "output_type": "stream",
     "text": [
      "100%|████████████████████████████████████████████████████████████████████████████████| 331/331 [05:31<00:00,  1.00s/it]"
     ]
    },
    {
     "name": "stdout",
     "output_type": "stream",
     "text": [
      "Epoch Loss: 0.6840\tEpoch Accuracy:0.7010\n",
      "Training Complete.\n"
     ]
    },
    {
     "name": "stderr",
     "output_type": "stream",
     "text": [
      "\n"
     ]
    }
   ],
   "source": [
    "train(model, train_dl, loss_fn, optimizer, epochs=1)"
   ]
  },
  {
   "cell_type": "code",
   "execution_count": null,
   "id": "cbae4359-6ce7-452d-9b94-3c6a4becbcbf",
   "metadata": {},
   "outputs": [],
   "source": [
    "def test(model, test_dl):\n",
    "    corrects = 0\n",
    "    total_entries = 0\n",
    "    model_accuracy = 0\n",
    "    \n",
    "    model.eval()\n",
    "    with torch.no_grad():\n",
    "        for images, labels in tqdm(test_dl):\n",
    "            labels = labels.squeeze().long()\n",
    "            outputs = model(images)\n",
    "            _, predictions = torch.max(outputs, 1)\n",
    "\n",
    "            corrects += torch.sum(predictions == labels).item()\n",
    "            total_entries += labels.size(0)\n",
    "        model_accuracy = corrects / total_entries\n",
    "        print(f'Model Accuracy: {model_accuracy}')\n",
    "        \n",
    "    print('Testing Complete')"
   ]
  },
  {
   "cell_type": "code",
   "execution_count": null,
   "id": "d81c31a7-9925-43c1-9b68-84797e1b0e62",
   "metadata": {},
   "outputs": [],
   "source": [
    "test(model, test_dl)"
   ]
  }
 ],
 "metadata": {
  "kernelspec": {
   "display_name": "cuda:nvidia",
   "language": "python",
   "name": "cuda"
  },
  "language_info": {
   "codemirror_mode": {
    "name": "ipython",
    "version": 3
   },
   "file_extension": ".py",
   "mimetype": "text/x-python",
   "name": "python",
   "nbconvert_exporter": "python",
   "pygments_lexer": "ipython3",
   "version": "3.12.3"
  }
 },
 "nbformat": 4,
 "nbformat_minor": 5
}
