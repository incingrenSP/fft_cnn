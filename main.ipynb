{
 "cells": [
  {
   "cell_type": "code",
   "execution_count": null,
   "id": "5c51ecd3-5409-4760-a05d-8ed02ca015d7",
   "metadata": {},
   "outputs": [],
   "source": [
    "import torch\n",
    "import torchvision\n",
    "import torchvision.models as models\n",
    "from torchvision.transforms import v2\n",
    "from torch.utils.data import Dataset, DataLoader"
   ]
  },
  {
   "cell_type": "code",
   "execution_count": null,
   "id": "2a7f6e54-965b-406d-98ec-c8ea4bb618e9",
   "metadata": {},
   "outputs": [],
   "source": [
    "import matplotlib.pyplot as plt\n",
    "import seaborn as sns\n",
    "from sklearn.metrics import classification_report, precision_recall_fscore_support, confusion_matrix"
   ]
  },
  {
   "cell_type": "code",
   "execution_count": null,
   "id": "df50e14e-378f-4bae-a9e5-b6cf3322afa4",
   "metadata": {},
   "outputs": [],
   "source": [
    "import os\n",
    "import cv2\n",
    "import numpy as np\n",
    "import lmdb\n",
    "import pickle"
   ]
  },
  {
   "cell_type": "code",
   "execution_count": null,
   "id": "77b8a211-f35f-48f6-85de-7df06bed3e4a",
   "metadata": {},
   "outputs": [],
   "source": [
    "from src.FFTConv import *\n",
    "from src.ImageHandler import *"
   ]
  },
  {
   "cell_type": "code",
   "execution_count": null,
   "id": "89024300-6e18-4b8d-aac2-1770db12d0ca",
   "metadata": {},
   "outputs": [],
   "source": [
    "IMG_SIZE = 128\n",
    "device = 'cuda' if torch.cuda.is_available() else 'cpu'\n",
    "REBUILD_DATA = False"
   ]
  },
  {
   "cell_type": "code",
   "execution_count": null,
   "id": "5bb4240a-04ab-42ce-8298-4feb3e817c31",
   "metadata": {},
   "outputs": [],
   "source": [
    "lmdb_path = os.path.join('lmdb')\n",
    "\n",
    "if REBUILD_DATA:\n",
    "    image_path = os.path.join('data', 'test_set')\n",
    "    test_data = ImageDataset(image_path=image_path, device=device, lmdb_path=lmdb_path, save_lmdb=True, mode=\"test\")\n",
    "\n",
    "    REBUILD_DATA = False\n",
    "else:\n",
    "    test_data = ImageDataset(image_path=None, device=device, lmdb_path=lmdb_path, save_lmdb=False, mode=\"test\")"
   ]
  },
  {
   "cell_type": "code",
   "execution_count": null,
   "id": "2cdbfb5f-da28-478b-bc48-e75289a60658",
   "metadata": {},
   "outputs": [],
   "source": [
    "batch_size = 32\n",
    "test_dl = DataLoader(test_data, batch_size, shuffle=False)"
   ]
  },
  {
   "cell_type": "code",
   "execution_count": null,
   "id": "e00bde61-cbe7-4dae-a249-558a39498449",
   "metadata": {},
   "outputs": [],
   "source": [
    "# fft_model = FFTAlex(apply_fft=True, device=device, IMG_SIZE=IMG_SIZE)\n",
    "# reg_model = FFTAlex(apply_fft=False, device=device, IMG_SIZE=IMG_SIZE)"
   ]
  },
  {
   "cell_type": "code",
   "execution_count": null,
   "id": "c7524f9c-24f2-40c8-bbf5-72517cab91bb",
   "metadata": {},
   "outputs": [],
   "source": [
    "fft_model = FFTGoogle(apply_fft=True, device=device)\n",
    "reg_model = FFTGoogle(apply_fft=False, device=device)"
   ]
  },
  {
   "cell_type": "code",
   "execution_count": null,
   "id": "5a0a18f0-8e23-488d-b7b8-a7e9e00e5ecf",
   "metadata": {},
   "outputs": [],
   "source": [
    "fft_model.load_model_dict(os.path.join('models', 'alex', 'fft_alex_model.pth'))\n",
    "reg_model.load_model_dict(os.path.join('models', 'alex', 'reg_alex_model.pth'))"
   ]
  },
  {
   "cell_type": "code",
   "execution_count": null,
   "id": "11050a75-8243-4fa3-80e5-56c858b9176c",
   "metadata": {},
   "outputs": [],
   "source": [
    "fft_model.load_model_dict(os.path.join('models', 'google', 'fft_google_model.pth'))\n",
    "reg_model.load_model_dict(os.path.join('models', 'google', 'reg_google_model.pth'))"
   ]
  },
  {
   "cell_type": "code",
   "execution_count": null,
   "id": "890e2632-f9ee-4a8b-a457-c0152f9aa9f5",
   "metadata": {},
   "outputs": [],
   "source": [
    "def get_predictions(model, test_dl, device):\n",
    "    model.eval()\n",
    "    all_preds = []\n",
    "    all_labels = []\n",
    "\n",
    "    with torch.no_grad():\n",
    "        for images, labels in tqdm(test_dl):\n",
    "            images = images.to(device)\n",
    "            labels = labels.to(device)\n",
    "            outputs = model(images)\n",
    "            preds = torch.argmax(outputs, dim=1)\n",
    "            \n",
    "            all_preds.extend(preds.cpu().numpy())\n",
    "            all_labels.extend(labels.cpu().numpy())\n",
    "\n",
    "    return np.array(all_labels), np.array(all_preds)"
   ]
  },
  {
   "cell_type": "code",
   "execution_count": null,
   "id": "20dd7a8a-8329-4d9e-a01e-c58149fe8ff9",
   "metadata": {},
   "outputs": [],
   "source": [
    "def compute_metrics(ground_truths, predictions):\n",
    "    precision, recall, f1, _ = precision_recall_fscore_support(ground_truths, predictions, average=None)\n",
    "    return precision, recall, f1"
   ]
  },
  {
   "cell_type": "code",
   "execution_count": null,
   "id": "9902df79-099c-43af-bd34-ea9b828a03e9",
   "metadata": {},
   "outputs": [],
   "source": [
    "def plot_metrics(precision1, recall1, f1_1, precision2, recall2, f1_2, class_names):\n",
    "    x = np.arange(len(class_names))\n",
    "    width = 0.3\n",
    "\n",
    "    fig, ax = plt.subplots(1, 3, figsize=(15,5))\n",
    "\n",
    "    # Precision\n",
    "    ax[0].bar(x - width/2, precision1, width, label=\"Model 1\", color=\"blue\")\n",
    "    ax[0].bar(x + width/2, precision2, width, label=\"Model 2\", color=\"orange\")\n",
    "    ax[0].set_title(\"Precision Comparison\")\n",
    "    ax[0].set_xticks(x)\n",
    "    ax[0].set_xticklabels(class_names)\n",
    "\n",
    "    # Recall\n",
    "    ax[1].bar(x - width/2, recall1, width, color=\"blue\")\n",
    "    ax[1].bar(x + width/2, recall2, width, color=\"orange\")\n",
    "    ax[1].set_title(\"Recall Comparison\")\n",
    "    ax[1].set_xticks(x)\n",
    "    ax[1].set_xticklabels(class_names)\n",
    "\n",
    "    # F1-score\n",
    "    ax[2].bar(x - width/2, f1_1, width, color=\"blue\")\n",
    "    ax[2].bar(x + width/2, f1_2, width, color=\"orange\")\n",
    "    ax[2].set_title(\"F1-score Comparison\")\n",
    "    ax[2].set_xticks(x)\n",
    "    ax[2].set_xticklabels(class_names)\n",
    "\n",
    "    for a in ax:\n",
    "        a.legend([\"FFT\", \"Regular\"])\n",
    "        a.set_ylim(0, 1)\n",
    "\n",
    "    plt.tight_layout()\n",
    "    plt.show()"
   ]
  },
  {
   "cell_type": "code",
   "execution_count": null,
   "id": "2bcf4ba1-56ae-407b-9c7f-f471e96a2ffe",
   "metadata": {},
   "outputs": [],
   "source": [
    "def plot_confusion_matrix(y_true, y_pred1, y_pred2, class_names):\n",
    "    cm1 = confusion_matrix(y_true, y_pred1)\n",
    "    cm2 = confusion_matrix(y_true, y_pred2)\n",
    "\n",
    "    fig, ax = plt.subplots(1, 2, figsize=(12, 5))\n",
    "\n",
    "    sns.heatmap(cm1, annot=True, fmt=\"d\", cmap=\"Blues\", xticklabels=class_names, yticklabels=class_names, ax=ax[0])\n",
    "    ax[0].set_title(\"Confusion Matrix - FFT\")\n",
    "    ax[0].set_xlabel(\"Predicted\")\n",
    "    ax[0].set_ylabel(\"Actual\")\n",
    "\n",
    "    sns.heatmap(cm2, annot=True, fmt=\"d\", cmap=\"Oranges\", xticklabels=class_names, yticklabels=class_names, ax=ax[1])\n",
    "    ax[1].set_title(\"Confusion Matrix - Regular\")\n",
    "    ax[1].set_xlabel(\"Predicted\")\n",
    "    ax[1].set_ylabel(\"Actual\")\n",
    "\n",
    "    plt.tight_layout()\n",
    "    plt.show()"
   ]
  },
  {
   "cell_type": "code",
   "execution_count": null,
   "id": "d12c2c80-a345-4bdd-89f9-551761d8a656",
   "metadata": {},
   "outputs": [],
   "source": [
    "def plot_accuracy_graphs(\n",
    "    model1_train_acc, model1_val_acc,\n",
    "    model2_train_acc, model2_val_acc,\n",
    "    num_epochs\n",
    "):\n",
    "    epochs = np.arange(1, num_epochs + 1)\n",
    "\n",
    "    fig, ax = plt.subplots(2, 2, figsize=(12, 8))\n",
    "\n",
    "    # FFT Training vs Validation\n",
    "    ax[0, 0].plot(epochs, model1_train_acc, label=\"Train\", marker=\"o\", color=\"blue\")\n",
    "    ax[0, 0].plot(epochs, model1_val_acc, label=\"Validation\", marker=\"s\", color=\"red\")\n",
    "    ax[0, 0].set_title(\"FFT: Training vs Validation Accuracy\")\n",
    "    ax[0, 0].set_xlabel(\"Epochs\")\n",
    "    ax[0, 0].set_ylabel(\"Accuracy\")\n",
    "    ax[0, 0].legend()\n",
    "\n",
    "    # Regular Training vs Validation\n",
    "    ax[0, 1].plot(epochs, model2_train_acc, label=\"Train\", marker=\"o\", color=\"blue\")\n",
    "    ax[0, 1].plot(epochs, model2_val_acc, label=\"Validation\", marker=\"s\", color=\"red\")\n",
    "    ax[0, 1].set_title(\"Regular: Training vs Validation Accuracy\")\n",
    "    ax[0, 1].set_xlabel(\"Epochs\")\n",
    "    ax[0, 1].set_ylabel(\"Accuracy\")\n",
    "    ax[0, 1].legend()\n",
    "\n",
    "    # FFT Validation vs Regular Validation\n",
    "    ax[1, 0].plot(epochs, model1_val_acc, label=\"FFT\", marker=\"o\", color=\"blue\")\n",
    "    ax[1, 0].plot(epochs, model2_val_acc, label=\"Regular\", marker=\"s\", color=\"orange\")\n",
    "    ax[1, 0].set_title(\"Validation Accuracy: FFT vs Regular\")\n",
    "    ax[1, 0].set_xlabel(\"Epochs\")\n",
    "    ax[1, 0].set_ylabel(\"Accuracy\")\n",
    "    ax[1, 0].legend()\n",
    "\n",
    "    # FFT Training vs Regular Training\n",
    "    ax[1, 1].plot(epochs, model1_train_acc, label=\"FFT\", marker=\"o\", color=\"blue\")\n",
    "    ax[1, 1].plot(epochs, model2_train_acc, label=\"Regular\", marker=\"s\", color=\"orange\")\n",
    "    ax[1, 1].set_title(\"Training Accuracy: FFT vs Regular\")\n",
    "    ax[1, 1].set_xlabel(\"Epochs\")\n",
    "    ax[1, 1].set_ylabel(\"Accuracy\")\n",
    "    ax[1, 1].legend()\n",
    "\n",
    "    plt.tight_layout()\n",
    "    plt.show()"
   ]
  },
  {
   "cell_type": "code",
   "execution_count": null,
   "id": "0bf5a00a-9ad7-4fd2-ad75-39f45527f48a",
   "metadata": {},
   "outputs": [],
   "source": [
    "def compare_models(model1, model2, test_dl, class_names, \n",
    "                   model1_train_acc, model1_val_acc,\n",
    "                   model2_train_acc, model2_val_acc,\n",
    "                   num_epochs, device):\n",
    "    y_true, y_pred1 = get_predictions(model1, test_dl, device)\n",
    "    _, y_pred2 = get_predictions(model2, test_dl, device)\n",
    "\n",
    "    precision1, recall1, f1_1 = compute_metrics(y_true, y_pred1)\n",
    "    precision2, recall2, f1_2 = compute_metrics(y_true, y_pred2)\n",
    "\n",
    "    print(\"\\nFFT Metrics:\\n\", classification_report(y_true, y_pred1, target_names=class_names))\n",
    "    print(\"\\nRegular Metrics:\\n\", classification_report(y_true, y_pred2, target_names=class_names))\n",
    "\n",
    "    plot_metrics(precision1, recall1, f1_1, precision2, recall2, f1_2, class_names)\n",
    "    plot_confusion_matrix(y_true, y_pred1, y_pred2, class_names)\n",
    "    plot_accuracy_graphs(model1_train_acc, model1_val_acc, model2_train_acc, model2_val_acc, num_epochs)"
   ]
  },
  {
   "cell_type": "code",
   "execution_count": null,
   "id": "d4bdd2d1-fb8a-43dc-b8d1-5daa9c2a2779",
   "metadata": {},
   "outputs": [],
   "source": [
    "class_names = [\"bacterial\", \"normal\", \"viral\"]\n",
    "\n",
    "tr_fft_acc = np.load(os.path.join('models', 'google', 'tr_fft_accuracy.npy'))\n",
    "val_fft_acc = np.load(os.path.join('models', 'google', 'val_fft_accuracy.npy'))\n",
    "\n",
    "tr_reg_acc = np.load(os.path.join('models', 'google', 'tr_reg_accuracy.npy'))\n",
    "val_reg_acc = np.load(os.path.join('models', 'google', 'val_reg_accuracy.npy'))\n",
    "\n",
    "num_epochs = len(tr_fft_acc)"
   ]
  },
  {
   "cell_type": "code",
   "execution_count": null,
   "id": "c3c966ef-278c-48fb-8029-faaedccd4896",
   "metadata": {},
   "outputs": [],
   "source": [
    "compare_models(fft_model, reg_model, test_dl, class_names,\n",
    "               tr_fft_acc, val_fft_acc,\n",
    "               tr_reg_acc, val_reg_acc, \n",
    "               num_epochs, device)"
   ]
  },
  {
   "cell_type": "code",
   "execution_count": null,
   "id": "c35605e9-d43f-4092-96ae-622c8032c0fb",
   "metadata": {},
   "outputs": [],
   "source": []
  }
 ],
 "metadata": {
  "kernelspec": {
   "display_name": "cuda:nvidia",
   "language": "python",
   "name": "cuda"
  },
  "language_info": {
   "codemirror_mode": {
    "name": "ipython",
    "version": 3
   },
   "file_extension": ".py",
   "mimetype": "text/x-python",
   "name": "python",
   "nbconvert_exporter": "python",
   "pygments_lexer": "ipython3",
   "version": "3.12.3"
  }
 },
 "nbformat": 4,
 "nbformat_minor": 5
}
