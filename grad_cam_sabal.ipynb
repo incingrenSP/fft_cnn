{
 "cells": [
  {
   "cell_type": "code",
   "execution_count": 1,
   "id": "1bedbeef-4bac-45b7-9ab9-abbd5660b299",
   "metadata": {
    "ExecuteTime": {
     "end_time": "2025-02-08T12:29:17.406478Z",
     "start_time": "2025-02-08T12:29:17.400015Z"
    }
   },
   "outputs": [],
   "source": [
    "import torch\n",
    "import torch.nn as nn\n",
    "from torch.autograd import Variable\n",
    "from torch.utils.data import Dataset, DataLoader\n",
    "import torchvision.models as models\n",
    "from torchvision.transforms import v2"
   ]
  },
  {
   "cell_type": "code",
   "execution_count": 2,
   "id": "c2c2f879-1f56-4dfd-8a61-219772133272",
   "metadata": {
    "ExecuteTime": {
     "end_time": "2025-02-08T12:29:17.586673Z",
     "start_time": "2025-02-08T12:29:17.579693Z"
    }
   },
   "outputs": [],
   "source": [
    "import os\n",
    "import matplotlib.pyplot as plt\n",
    "import seaborn as sns\n",
    "import numpy as np\n",
    "import cv2\n",
    "from PIL import Image\n",
    "from tqdm import tqdm\n",
    "from random import randint, random"
   ]
  },
  {
   "cell_type": "code",
   "execution_count": 3,
   "id": "0637bbc8-a16d-4f04-beca-61f15bde06e0",
   "metadata": {
    "ExecuteTime": {
     "end_time": "2025-02-08T12:29:17.758287Z",
     "start_time": "2025-02-08T12:29:17.750311Z"
    }
   },
   "outputs": [],
   "source": [
    "from src.FFTConv import *\n",
    "from src.ImageHandler import *"
   ]
  },
  {
   "cell_type": "code",
   "execution_count": 4,
   "id": "f589373b-fdfa-458c-bd50-6acf4d3b2d54",
   "metadata": {
    "ExecuteTime": {
     "end_time": "2025-02-08T12:29:17.922880Z",
     "start_time": "2025-02-08T12:29:17.915899Z"
    }
   },
   "outputs": [],
   "source": [
    "IMG_SIZE = 128\n",
    "device = 'cuda' if torch.cuda.is_available() else 'cpu'\n",
    "targets = ['bacterial', 'normal', 'viral']\n",
    "REBUILD_DATA = False"
   ]
  },
  {
   "cell_type": "code",
   "execution_count": 5,
   "id": "69695ae7-36e8-4e56-a5d1-4de819454b42",
   "metadata": {
    "ExecuteTime": {
     "end_time": "2025-02-08T12:29:18.260354Z",
     "start_time": "2025-02-08T12:29:18.255396Z"
    }
   },
   "outputs": [
    {
     "name": "stdout",
     "output_type": "stream",
     "text": [
      "Total Layers replaced:  1\n"
     ]
    }
   ],
   "source": [
    "model = FFTAlex(apply_fft=True, device=device, IMG_SIZE=IMG_SIZE)"
   ]
  },
  {
   "cell_type": "code",
   "execution_count": 6,
   "id": "8dfc9fcf-31a0-4d16-9f6c-93fbc9e9dade",
   "metadata": {
    "ExecuteTime": {
     "end_time": "2025-02-08T12:29:19.315492Z",
     "start_time": "2025-02-08T12:29:18.906351Z"
    }
   },
   "outputs": [],
   "source": [
    "# model = FFTGoogle(apply_fft=True, device=device)"
   ]
  },
  {
   "cell_type": "code",
   "execution_count": 7,
   "id": "0e9b49fa-1ff8-4489-865f-dc223f8dba47",
   "metadata": {
    "ExecuteTime": {
     "end_time": "2025-02-08T12:29:21.722480Z",
     "start_time": "2025-02-08T12:29:21.522892Z"
    }
   },
   "outputs": [
    {
     "name": "stderr",
     "output_type": "stream",
     "text": [
      "C:\\Users\\samir\\python\\minor_project\\fft_cnn\\src\\FFTConv.py:95: FutureWarning: You are using `torch.load` with `weights_only=False` (the current default value), which uses the default pickle module implicitly. It is possible to construct malicious pickle data which will execute arbitrary code during unpickling (See https://github.com/pytorch/pytorch/blob/main/SECURITY.md#untrusted-models for more details). In a future release, the default value for `weights_only` will be flipped to `True`. This limits the functions that could be executed during unpickling. Arbitrary objects will no longer be allowed to be loaded via this mode unless they are explicitly allowlisted by the user via `torch.serialization.add_safe_globals`. We recommend you start setting `weights_only=True` for any use case where you don't have full control of the loaded file. Please open an issue on GitHub for any issues related to this experimental feature.\n",
      "  state_dict = torch.load(path, map_location=self.device)\n"
     ]
    },
    {
     "data": {
      "text/plain": [
       "FFTAlex(\n",
       "  (model): AlexNet(\n",
       "    (features): Sequential(\n",
       "      (0): FFTConvNet(\n",
       "        (conv_layer): Conv2d(3, 64, kernel_size=(5, 5), stride=(2, 2), padding=(2, 2))\n",
       "      )\n",
       "      (1): ReLU()\n",
       "      (2): MaxPool2d(kernel_size=3, stride=2, padding=0, dilation=1, ceil_mode=False)\n",
       "      (3): BatchNorm2d(64, eps=1e-05, momentum=0.1, affine=True, track_running_stats=True)\n",
       "      (4): Conv2d(64, 192, kernel_size=(3, 3), stride=(1, 1), padding=(2, 2))\n",
       "      (5): ReLU()\n",
       "      (6): MaxPool2d(kernel_size=3, stride=2, padding=0, dilation=1, ceil_mode=False)\n",
       "      (7): BatchNorm2d(192, eps=1e-05, momentum=0.1, affine=True, track_running_stats=True)\n",
       "      (8): Conv2d(192, 384, kernel_size=(3, 3), stride=(1, 1), padding=(1, 1))\n",
       "      (9): ReLU()\n",
       "      (10): Conv2d(384, 256, kernel_size=(1, 1), stride=(1, 1), padding=(1, 1))\n",
       "      (11): ReLU(inplace=True)\n",
       "      (12): Conv2d(256, 256, kernel_size=(1, 1), stride=(1, 1), padding=(1, 1))\n",
       "      (13): ReLU()\n",
       "      (14): MaxPool2d(kernel_size=3, stride=2, padding=0, dilation=1, ceil_mode=False)\n",
       "      (15): BatchNorm2d(256, eps=1e-05, momentum=0.1, affine=True, track_running_stats=True)\n",
       "    )\n",
       "    (avgpool): AdaptiveAvgPool2d(output_size=(6, 6))\n",
       "    (classifier): Sequential(\n",
       "      (0): Dropout(p=0.5, inplace=False)\n",
       "      (1): Linear(in_features=9216, out_features=512, bias=True)\n",
       "      (2): ReLU()\n",
       "      (3): Dropout(p=0.5, inplace=False)\n",
       "      (4): Linear(in_features=512, out_features=128, bias=True)\n",
       "      (5): ReLU()\n",
       "      (6): Linear(in_features=128, out_features=3, bias=True)\n",
       "    )\n",
       "  )\n",
       ")"
      ]
     },
     "execution_count": 7,
     "metadata": {},
     "output_type": "execute_result"
    }
   ],
   "source": [
    "model.load_model_dict(os.path.join('models', 'alex', 'fft_alex_model.pth'))\n",
    "model.eval()\n",
    "model"
   ]
  },
  {
   "cell_type": "code",
   "execution_count": 8,
   "id": "d856ce4742bed948",
   "metadata": {
    "ExecuteTime": {
     "end_time": "2025-02-08T12:29:22.716018Z",
     "start_time": "2025-02-08T12:29:22.709036Z"
    }
   },
   "outputs": [],
   "source": [
    "layer = model.model.features[10]"
   ]
  },
  {
   "cell_type": "code",
   "execution_count": 9,
   "id": "5016d282-b910-4dd3-8cd0-5cc1d6f069b8",
   "metadata": {
    "ExecuteTime": {
     "end_time": "2025-02-08T12:29:25.342219Z",
     "start_time": "2025-02-08T12:29:25.331216Z"
    }
   },
   "outputs": [
    {
     "data": {
      "text/plain": [
       "<torch.utils.hooks.RemovableHandle at 0x1a2147297f0>"
      ]
     },
     "execution_count": 9,
     "metadata": {},
     "output_type": "execute_result"
    }
   ],
   "source": [
    "# Hook to store the feature maps\n",
    "feature_maps = None\n",
    "\n",
    "def hook_fn(module, input, output):\n",
    "    global feature_maps\n",
    "    feature_maps = output\n",
    "\n",
    "# Register the hook to the last convolutional layer\n",
    "layer.register_forward_hook(hook_fn)"
   ]
  },
  {
   "cell_type": "code",
   "execution_count": 10,
   "id": "3d481e58-dd9d-49d8-861b-bec4db5837db",
   "metadata": {
    "ExecuteTime": {
     "end_time": "2025-02-08T12:29:26.356575Z",
     "start_time": "2025-02-08T12:29:25.968366Z"
    }
   },
   "outputs": [
    {
     "name": "stdout",
     "output_type": "stream",
     "text": [
      "Loaded test dataset\n"
     ]
    }
   ],
   "source": [
    "lmdb_path = os.path.join('lmdb')\n",
    "\n",
    "if REBUILD_DATA:\n",
    "    image_path = os.path.join('data', 'test_set')\n",
    "    test_data = ImageDataset(image_path=image_path, device=device, lmdb_path=lmdb_path, save_lmdb=True, mode=\"test\")\n",
    "\n",
    "    REBUILD_DATA = False\n",
    "else:\n",
    "    test_data = ImageDataset(image_path=None, device=device, lmdb_path=lmdb_path, save_lmdb=False, mode=\"test\")"
   ]
  },
  {
   "cell_type": "code",
   "execution_count": 13,
   "id": "db4c90dc814a495e",
   "metadata": {
    "ExecuteTime": {
     "end_time": "2025-02-08T12:30:10.487853Z",
     "start_time": "2025-02-08T12:29:40.384796Z"
    }
   },
   "outputs": [],
   "source": [
    "main_directory = os.path.join(\"data\", \"test_set\")\n",
    "IMG_SIZE = 128\n",
    "device = torch.device('cuda' if torch.cuda.is_available() else 'cpu')\n",
    "\n",
    "def preprocess_image(img_path):\n",
    "    img = Image.open(img_path).convert('RGB')\n",
    "    preprocess = v2.Compose([\n",
    "        v2.ToImage(),\n",
    "        v2.Resize((IMG_SIZE, IMG_SIZE)),\n",
    "        v2.ToDtype(torch.float32, scale=True),\n",
    "        v2.Normalize(mean=[0.5, 0.5, 0.5], std=[0.5, 0.5, 0.5]),\n",
    "    ])\n",
    "    img = preprocess(img).unsqueeze(0)\n",
    "    return img.to(device)\n",
    "\n",
    "def get_label(img_path):\n",
    "    return os.path.basename(os.path.dirname(img_path))\n",
    "\n",
    "all_images = []\n",
    "no_pic = 20\n",
    "disp_heatmaps = 0\n",
    "\n",
    "for label in targets:\n",
    "    label_directory = os.path.join(main_directory, label)\n",
    "    if os.path.isdir(label_directory):\n",
    "        for img_name in os.listdir(label_directory):\n",
    "            if img_name.lower().endswith(('.jpg', '.jpeg')):\n",
    "                all_images.append(os.path.join(label_directory, img_name))\n",
    "\n",
    "while disp_heatmaps < no_pic:\n",
    "    image_num = randint(0, len(all_images) - 1)\n",
    "    img_path = all_images[image_num]\n",
    "    true_label = get_label(img_path)\n",
    "    input_img = preprocess_image(img_path)\n",
    "\n",
    "    output = model(input_img)\n",
    "    _, predicted_class = torch.max(output, 1)\n",
    "    predicted_label = targets[predicted_class.item()]\n",
    "\n",
    "    if predicted_label == true_label:\n",
    "        disp_heatmaps += 1\n",
    "        model.zero_grad()\n",
    "\n",
    "        gradients = torch.autograd.grad(output[:, predicted_class], feature_maps, retain_graph=True)[0]\n",
    "        pooled_gradients = torch.mean(gradients, dim=[0, 2, 3])\n",
    "\n",
    "        for i in range(feature_maps.shape[1]):\n",
    "            feature_maps[:, i, :, :] *= pooled_gradients[i]\n",
    "\n",
    "        # Average the feature maps along the channel dimension\n",
    "        heatmap = torch.mean(feature_maps, dim=1).squeeze()\n",
    "\n",
    "        # Apply ReLU to the heatmap\n",
    "        heatmap = np.maximum(heatmap.detach().cpu().numpy(), 0)\n",
    "        max_val = np.max(heatmap)\n",
    "        if max_val > 0:\n",
    "            heatmap /= max_val\n",
    "        heatmap = np.uint8(255 * heatmap)\n",
    "\n",
    "        # Read the original image for overlay\n",
    "        img = cv2.imread(img_path)\n",
    "        img = cv2.resize(img, (IMG_SIZE, IMG_SIZE))\n",
    "        img = cv2.cvtColor(img, cv2.COLOR_BGR2RGB)  # Fix color issues\n",
    "\n",
    "        # Ensure heatmap and img have the same size\n",
    "        heatmap = cv2.resize(heatmap, (img.shape[1], img.shape[0]))\n",
    "\n",
    "        # Create figure and display\n",
    "        plt.figure(figsize=(10, 10))\n",
    "        plt.imshow(img)\n",
    "        heatmap_img = plt.imshow(heatmap, cmap='jet', alpha=0.5)\n",
    "        plt.colorbar(heatmap_img, shrink=0.5, aspect=10)\n",
    "        plt.title(f\"Index: {image_num}, Prediction: {targets[predicted_class]}\")\n",
    "        plt.axis('off')\n",
    "\n",
    "        # Save the heatmap image\n",
    "        plt.savefig(f\"heatmaps/image_{image_num}.png\", dpi=300, bbox_inches=\"tight\")\n",
    "        plt.close()\n"
   ]
  },
  {
   "cell_type": "code",
   "execution_count": 12,
   "id": "4b08f3adbfec45e0",
   "metadata": {
    "ExecuteTime": {
     "end_time": "2025-02-08T12:29:06.483235Z",
     "start_time": "2025-02-08T12:29:06.476276Z"
    }
   },
   "outputs": [
    {
     "name": "stdout",
     "output_type": "stream",
     "text": [
      "624\n"
     ]
    }
   ],
   "source": [
    "print(len(all_images))"
   ]
  },
  {
   "cell_type": "code",
   "execution_count": null,
   "id": "e327259318405ecc",
   "metadata": {
    "ExecuteTime": {
     "end_time": "2025-02-08T10:36:58.550172Z",
     "start_time": "2025-02-08T10:36:58.538241Z"
    }
   },
   "outputs": [],
   "source": []
  },
  {
   "cell_type": "code",
   "execution_count": null,
   "id": "4c7dcf9a-0bee-452b-a31e-4ad72433aab4",
   "metadata": {},
   "outputs": [],
   "source": []
  }
 ],
 "metadata": {
  "kernelspec": {
   "display_name": "cuda:nvidia",
   "language": "python",
   "name": "cuda"
  },
  "language_info": {
   "codemirror_mode": {
    "name": "ipython",
    "version": 3
   },
   "file_extension": ".py",
   "mimetype": "text/x-python",
   "name": "python",
   "nbconvert_exporter": "python",
   "pygments_lexer": "ipython3",
   "version": "3.12.3"
  }
 },
 "nbformat": 4,
 "nbformat_minor": 5
}
