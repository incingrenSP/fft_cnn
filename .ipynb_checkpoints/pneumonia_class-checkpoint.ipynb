{
 "cells": [
  {
   "cell_type": "code",
   "execution_count": 1,
   "id": "745b857f-7650-4fba-90e1-217880ba52f4",
   "metadata": {},
   "outputs": [],
   "source": [
    "import torch\n",
    "import torch.nn as nn\n",
    "import torch.fft as fft\n",
    "import torchvision\n",
    "import torchvision.models as models\n",
    "from torchvision.transforms import v2\n",
    "from torch.utils.data import Dataset, DataLoader\n",
    "import torch.optim as optim\n",
    "import matplotlib.pyplot as plt\n",
    "from sklearn.model_selection import train_test_split"
   ]
  },
  {
   "cell_type": "code",
   "execution_count": 2,
   "id": "a84f894f-e7c5-4f31-a2f5-72cf67195214",
   "metadata": {},
   "outputs": [],
   "source": [
    "import os\n",
    "import numpy as np\n",
    "import cv2\n",
    "import math\n",
    "from tqdm import tqdm"
   ]
  },
  {
   "cell_type": "code",
   "execution_count": 3,
   "id": "952a1320-6293-4e3c-90bc-8a3a86003fb9",
   "metadata": {},
   "outputs": [],
   "source": [
    "IMG_SIZE = 128\n",
    "device = 'cuda:0' if torch.cuda.is_available() else 'cpu'"
   ]
  },
  {
   "cell_type": "code",
   "execution_count": 4,
   "id": "4db67ae8-7b1d-4659-93b6-ed1f38d618d0",
   "metadata": {},
   "outputs": [],
   "source": [
    "class ImageDataset(Dataset):\n",
    "    def __init__(self, image_path, device):\n",
    "        self.image_path = image_path\n",
    "        self.device = device\n",
    "        self.data = []\n",
    "        self.transform = v2.Compose([\n",
    "            v2.ToImage(),\n",
    "            v2.ToDtype(torch.float32, scale=True),\n",
    "            v2.Normalize(mean=[0.485, 0.456, 0.406], std=[0.229, 0.224, 0.225]),\n",
    "        ])\n",
    "        self.load_data()\n",
    "\n",
    "    def load_data(self):\n",
    "        for idx, label in enumerate(os.listdir(os.path.join(self.image_path))):\n",
    "            print(os.path.join(self.image_path, label))\n",
    "            for img_file in tqdm(os.listdir(os.path.join(self.image_path, label))):\n",
    "                img_gray = cv2.imread(os.path.join(self.image_path, label, img_file), cv2.IMREAD_GRAYSCALE)\n",
    "                img = cv2.resize(img_gray, (IMG_SIZE, IMG_SIZE))\n",
    "                img = self.transform(img)\n",
    "\n",
    "                idx = torch.Tensor([idx])\n",
    "                self.data.append((img.to(device), idx.to(device)))\n",
    "    \n",
    "    def __len__(self):\n",
    "        return len(self.data)\n",
    "\n",
    "    def __getitem__(self, idx):\n",
    "        return self.data[idx]"
   ]
  },
  {
   "cell_type": "code",
   "execution_count": 5,
   "id": "fe7f7e0e-9465-4f89-a215-20d8d6649f56",
   "metadata": {},
   "outputs": [
    {
     "name": "stdout",
     "output_type": "stream",
     "text": [
      "data\\train_set\\bacterial\n"
     ]
    },
    {
     "name": "stderr",
     "output_type": "stream",
     "text": [
      "100%|██████████████████████████████████████████████████████████████████████████████| 3001/3001 [00:50<00:00, 58.93it/s]\n"
     ]
    },
    {
     "name": "stdout",
     "output_type": "stream",
     "text": [
      "data\\train_set\\normal\n"
     ]
    },
    {
     "name": "stderr",
     "output_type": "stream",
     "text": [
      "100%|██████████████████████████████████████████████████████████████████████████████| 3270/3270 [01:19<00:00, 41.36it/s]\n"
     ]
    },
    {
     "name": "stdout",
     "output_type": "stream",
     "text": [
      "data\\train_set\\viral\n"
     ]
    },
    {
     "name": "stderr",
     "output_type": "stream",
     "text": [
      "100%|██████████████████████████████████████████████████████████████████████████████| 1656/1656 [00:30<00:00, 55.11it/s]\n"
     ]
    },
    {
     "name": "stdout",
     "output_type": "stream",
     "text": [
      "data\\test_set\\bacterial\n"
     ]
    },
    {
     "name": "stderr",
     "output_type": "stream",
     "text": [
      "100%|███████████████████████████████████████████████████████████████████████████████| 242/242 [00:01<00:00, 186.81it/s]\n"
     ]
    },
    {
     "name": "stdout",
     "output_type": "stream",
     "text": [
      "data\\test_set\\normal\n"
     ]
    },
    {
     "name": "stderr",
     "output_type": "stream",
     "text": [
      "100%|████████████████████████████████████████████████████████████████████████████████| 234/234 [00:05<00:00, 46.31it/s]\n"
     ]
    },
    {
     "name": "stdout",
     "output_type": "stream",
     "text": [
      "data\\test_set\\viral\n"
     ]
    },
    {
     "name": "stderr",
     "output_type": "stream",
     "text": [
      "100%|███████████████████████████████████████████████████████████████████████████████| 148/148 [00:01<00:00, 136.63it/s]\n"
     ]
    }
   ],
   "source": [
    "batch_size = 8\n",
    "\n",
    "image_path = os.path.join('data', 'train_set')\n",
    "train_data = ImageDataset(image_path, device)\n",
    "train_dl = DataLoader(train_data, batch_size, shuffle=True)\n",
    "\n",
    "image_path = os.path.join('data', 'test_set')\n",
    "test_data = ImageDataset(image_path, device)\n",
    "test_dl = DataLoader(test_data, batch_size, shuffle=False)"
   ]
  },
  {
   "cell_type": "code",
   "execution_count": 6,
   "id": "13d32d40-0885-43b3-825d-eac7541ee03f",
   "metadata": {},
   "outputs": [],
   "source": [
    "class FFTConvNet(nn.Module):\n",
    "    def __init__(self, conv_layer, fft_filter=None):\n",
    "        super().__init__()\n",
    "        self.conv_layer = conv_layer\n",
    "\n",
    "    def fft_filter_def(self, fft_x, height, width):\n",
    "        cht, cwt = height//2, width//2\n",
    "        mask_radius = 30\n",
    "        \n",
    "        mask = torch.zeros((height, width))\n",
    "        fy, fx = torch.meshgrid(torch.arange(0, height, device=device), torch.arange(0, width, device=device), indexing='ij')\n",
    "        mask_area = torch.sqrt((fx - cwt)**2 + (fy - cht)**2)\n",
    "\n",
    "        if fft_filter == 'high':\n",
    "            mask = (mask_area > mask_radius).float()\n",
    "        else:\n",
    "            mask = (mask_area <= mask_radius).float()\n",
    "        filtered_fft = fft_x * mask\n",
    "        \n",
    "        return filtered_fft\n",
    "\n",
    "    def forward(self, x):\n",
    "        batch_size, channels, height, width = x.size()\n",
    "        \n",
    "        # apply fft on input image\n",
    "        fft_x = fft.fft2(x)\n",
    "        fft_x = fft.fftshift(fft_x)\n",
    "\n",
    "        kernel_fft = fft.fft2(self.conv_layer.weight, s=(height, width))\n",
    "        kernel_fft = fft.fftshift(kernel_fft)\n",
    "\n",
    "        # apply fft filter (low pass)\n",
    "        if fft_filter is not None:\n",
    "            fft_x = fft_filter_def(fft_x, height, width)\n",
    "        \n",
    "        # perform element wise complex multiplcation\n",
    "        # fft_output = fft_x * kernel_fft\n",
    "\n",
    "        fft_output = torch.einsum('bixy,oixy->boxy', fft_x, kernel_fft)\n",
    "        \n",
    "        # apply inverse fft\n",
    "        fft_output = fft.ifftshift(fft_out)\n",
    "        spatial_output = fft.ifft2(fft_out)\n",
    "        \n",
    "        # return output\n",
    "        return spatial_output"
   ]
  },
  {
   "cell_type": "code",
   "execution_count": 7,
   "id": "13745ccf-4bc4-42e2-9c20-82cdecfee951",
   "metadata": {},
   "outputs": [],
   "source": [
    "def switch_conv_layers(model):\n",
    "    for name, module in model.named_children():\n",
    "        if isinstance(module, nn.Conv2d):\n",
    "            # if \"Conv2d_1a\" in name or \"Conv2d_2a\" in name or \"Conv2d_2b\" in name:\n",
    "            if \"Inception3\" in name or \"Inception4\" in name or \"Inception5\" in name:\n",
    "                conv_fft = FFTConvNet(module, 'low')\n",
    "                setattr(model, name, conv_fft)\n",
    "        elif isinstance(module, nn.Sequential) or isinstance(module, nn.Module):\n",
    "            switch_conv_layers(module)\n",
    "    return model"
   ]
  },
  {
   "cell_type": "code",
   "execution_count": 8,
   "id": "3fe29d35-b0ba-45a2-b652-4be8fb5fe85a",
   "metadata": {},
   "outputs": [],
   "source": [
    "# googlenet\n",
    "model = models.googlenet(weights=None, init_weights=True)\n",
    "\n",
    "# disable auxillary branches since we're working with size of images lower than 256\n",
    "model.aux1 = None\n",
    "model.aux2 = None\n",
    "\n",
    "model.fc = nn.Sequential(\n",
    "    nn.Linear(model.fc.in_features, 1024),\n",
    "    nn.LeakyReLU(),\n",
    "    nn.Dropout(p=0.2),\n",
    "    nn.Linear(1024, 3),\n",
    "    nn.LogSoftmax(dim=1)\n",
    ")\n",
    "\n",
    "# switch nn.Conv2d layers to the custom FFTConvNet layers\n",
    "model = switch_conv_layers(model)\n",
    "model = model.to(device)"
   ]
  },
  {
   "cell_type": "code",
   "execution_count": 9,
   "id": "7eb972d4-b291-4aa9-b279-42fb3d12d043",
   "metadata": {},
   "outputs": [
    {
     "name": "stdout",
     "output_type": "stream",
     "text": [
      "Adam (\n",
      "Parameter Group 0\n",
      "    amsgrad: False\n",
      "    betas: (0.9, 0.999)\n",
      "    capturable: False\n",
      "    differentiable: False\n",
      "    eps: 1e-08\n",
      "    foreach: None\n",
      "    fused: None\n",
      "    lr: 0.001\n",
      "    maximize: False\n",
      "    weight_decay: 1e-06\n",
      ") CrossEntropyLoss()\n"
     ]
    }
   ],
   "source": [
    "learning_rate = 0.001\n",
    "weight_decay = 0.000001\n",
    "\n",
    "optimizer = optim.Adam(model.parameters(), learning_rate, weight_decay=weight_decay)\n",
    "loss_fn = nn.CrossEntropyLoss()\n",
    "\n",
    "print(optimizer, loss_fn)"
   ]
  },
  {
   "cell_type": "code",
   "execution_count": 12,
   "id": "2ff773fc-5651-473e-90ac-912f0559b648",
   "metadata": {},
   "outputs": [],
   "source": [
    "def train(model, train_dl, loss_fn, optimizer, epochs):\n",
    "    best_accuracy = 0.0\n",
    "\n",
    "    model.train()\n",
    "    for epoch in range(epochs):\n",
    "        print(f'Epoch: {epoch+1}')\n",
    "        running_loss = 0\n",
    "        running_corrects = 0\n",
    "        total_entries = 0\n",
    "\n",
    "        for images, labels in tqdm(train_dl):\n",
    "            labels = labels.squeeze().long()\n",
    "            optimizer.zero_grad()\n",
    "            outputs = model(images)\n",
    "\n",
    "            loss = loss_fn(outputs[0], labels)\n",
    "            _, prediction = torch.max(outputs[0], 1)\n",
    "\n",
    "            loss.backward()\n",
    "            optimizer.step()\n",
    "\n",
    "            running_loss += loss.item() * images.size(0)\n",
    "            running_corrects += torch.sum((prediction == labels)).item()\n",
    "            total_entries += labels.size(0)\n",
    "\n",
    "        epoch_loss = running_loss / total_entries\n",
    "        epoch_accuracy = running_corrects / total_entries\n",
    "        print(f'Epoch Loss: {epoch_loss}\\tEpoch Accuracy:{epoch_accuracy}')\n",
    "\n",
    "        if epoch_accuracy > best_accuracy:\n",
    "            best_accuracy = epoch_accuracy\n",
    "            torch.save(model.state_dict(), os.path.join('models', f'fft_google_model_e{epochs}.pth'))\n",
    "\n",
    "    print('Training Complete.')\n",
    "    "
   ]
  },
  {
   "cell_type": "code",
   "execution_count": 13,
   "id": "eac058b7-935a-4f55-890b-ac09fd698782",
   "metadata": {},
   "outputs": [
    {
     "name": "stdout",
     "output_type": "stream",
     "text": [
      "Epoch: 1\n"
     ]
    },
    {
     "name": "stderr",
     "output_type": "stream",
     "text": [
      "100%|████████████████████████████████████████████████████████████████████████████████| 991/991 [01:00<00:00, 16.50it/s]\n"
     ]
    },
    {
     "name": "stdout",
     "output_type": "stream",
     "text": [
      "Epoch Loss: 0.7034156816866203\tEpoch Accuracy:0.6981203481771162\n",
      "Epoch: 2\n"
     ]
    },
    {
     "name": "stderr",
     "output_type": "stream",
     "text": [
      "100%|████████████████████████████████████████████████████████████████████████████████| 991/991 [00:56<00:00, 17.51it/s]\n"
     ]
    },
    {
     "name": "stdout",
     "output_type": "stream",
     "text": [
      "Epoch Loss: 0.6116966794745324\tEpoch Accuracy:0.7340734199571086\n",
      "Epoch: 3\n"
     ]
    },
    {
     "name": "stderr",
     "output_type": "stream",
     "text": [
      "100%|████████████████████████████████████████████████████████████████████████████████| 991/991 [00:57<00:00, 17.22it/s]\n"
     ]
    },
    {
     "name": "stdout",
     "output_type": "stream",
     "text": [
      "Epoch Loss: 0.5826395503717006\tEpoch Accuracy:0.7553929607669989\n",
      "Epoch: 4\n"
     ]
    },
    {
     "name": "stderr",
     "output_type": "stream",
     "text": [
      "100%|████████████████████████████████████████████████████████████████████████████████| 991/991 [00:58<00:00, 16.98it/s]\n"
     ]
    },
    {
     "name": "stdout",
     "output_type": "stream",
     "text": [
      "Epoch Loss: 0.5441184398715007\tEpoch Accuracy:0.7692695849627854\n",
      "Epoch: 5\n"
     ]
    },
    {
     "name": "stderr",
     "output_type": "stream",
     "text": [
      "100%|████████████████████████████████████████████████████████████████████████████████| 991/991 [00:59<00:00, 16.73it/s]\n"
     ]
    },
    {
     "name": "stdout",
     "output_type": "stream",
     "text": [
      "Epoch Loss: 0.5050358860139605\tEpoch Accuracy:0.7876876498044657\n",
      "Epoch: 6\n"
     ]
    },
    {
     "name": "stderr",
     "output_type": "stream",
     "text": [
      "100%|████████████████████████████████████████████████████████████████████████████████| 991/991 [00:59<00:00, 16.59it/s]\n"
     ]
    },
    {
     "name": "stdout",
     "output_type": "stream",
     "text": [
      "Epoch Loss: 0.5200941762249572\tEpoch Accuracy:0.7828939069004668\n",
      "Epoch: 7\n"
     ]
    },
    {
     "name": "stderr",
     "output_type": "stream",
     "text": [
      "100%|████████████████████████████████████████████████████████████████████████████████| 991/991 [01:00<00:00, 16.25it/s]\n"
     ]
    },
    {
     "name": "stdout",
     "output_type": "stream",
     "text": [
      "Epoch Loss: 0.5033794308432087\tEpoch Accuracy:0.786678440772045\n",
      "Epoch: 8\n"
     ]
    },
    {
     "name": "stderr",
     "output_type": "stream",
     "text": [
      "100%|████████████████████████████████████████████████████████████████████████████████| 991/991 [01:00<00:00, 16.27it/s]\n"
     ]
    },
    {
     "name": "stdout",
     "output_type": "stream",
     "text": [
      "Epoch Loss: 0.4738137605467886\tEpoch Accuracy:0.7943736596442538\n",
      "Epoch: 9\n"
     ]
    },
    {
     "name": "stderr",
     "output_type": "stream",
     "text": [
      "100%|████████████████████████████████████████████████████████████████████████████████| 991/991 [01:00<00:00, 16.29it/s]\n"
     ]
    },
    {
     "name": "stdout",
     "output_type": "stream",
     "text": [
      "Epoch Loss: 0.4690879781940658\tEpoch Accuracy:0.8033303898069888\n",
      "Epoch: 10\n"
     ]
    },
    {
     "name": "stderr",
     "output_type": "stream",
     "text": [
      "100%|████████████████████████████████████████████████████████████████████████████████| 991/991 [01:01<00:00, 16.22it/s]\n"
     ]
    },
    {
     "name": "stdout",
     "output_type": "stream",
     "text": [
      "Epoch Loss: 0.4395810821960323\tEpoch Accuracy:0.8112779109373028\n",
      "Epoch: 11\n"
     ]
    },
    {
     "name": "stderr",
     "output_type": "stream",
     "text": [
      "100%|████████████████████████████████████████████████████████████████████████████████| 991/991 [01:01<00:00, 16.15it/s]\n"
     ]
    },
    {
     "name": "stdout",
     "output_type": "stream",
     "text": [
      "Epoch Loss: 0.43105847287090815\tEpoch Accuracy:0.8115302131954081\n",
      "Epoch: 12\n"
     ]
    },
    {
     "name": "stderr",
     "output_type": "stream",
     "text": [
      "100%|████████████████████████████████████████████████████████████████████████████████| 991/991 [01:01<00:00, 16.04it/s]\n"
     ]
    },
    {
     "name": "stdout",
     "output_type": "stream",
     "text": [
      "Epoch Loss: 0.5627564734102454\tEpoch Accuracy:0.7647281443168916\n",
      "Epoch: 13\n"
     ]
    },
    {
     "name": "stderr",
     "output_type": "stream",
     "text": [
      "100%|████████████████████████████████████████████████████████████████████████████████| 991/991 [01:02<00:00, 15.79it/s]\n"
     ]
    },
    {
     "name": "stdout",
     "output_type": "stream",
     "text": [
      "Epoch Loss: 0.4853103851496053\tEpoch Accuracy:0.7980320423867794\n",
      "Epoch: 14\n"
     ]
    },
    {
     "name": "stderr",
     "output_type": "stream",
     "text": [
      "100%|████████████████████████████████████████████████████████████████████████████████| 991/991 [01:02<00:00, 15.80it/s]\n"
     ]
    },
    {
     "name": "stdout",
     "output_type": "stream",
     "text": [
      "Epoch Loss: 0.442538764202288\tEpoch Accuracy:0.8121609688406711\n",
      "Epoch: 15\n"
     ]
    },
    {
     "name": "stderr",
     "output_type": "stream",
     "text": [
      "100%|████████████████████████████████████████████████████████████████████████████████| 991/991 [01:02<00:00, 15.89it/s]\n"
     ]
    },
    {
     "name": "stdout",
     "output_type": "stream",
     "text": [
      "Epoch Loss: 0.4089081070135743\tEpoch Accuracy:0.825280686262142\n",
      "Epoch: 16\n"
     ]
    },
    {
     "name": "stderr",
     "output_type": "stream",
     "text": [
      "100%|████████████████████████████████████████████████████████████████████████████████| 991/991 [01:02<00:00, 15.76it/s]\n"
     ]
    },
    {
     "name": "stdout",
     "output_type": "stream",
     "text": [
      "Epoch Loss: 0.3924959112596464\tEpoch Accuracy:0.8271729531979312\n",
      "Epoch: 17\n"
     ]
    },
    {
     "name": "stderr",
     "output_type": "stream",
     "text": [
      "100%|████████████████████████████████████████████████████████████████████████████████| 991/991 [01:03<00:00, 15.64it/s]\n"
     ]
    },
    {
     "name": "stdout",
     "output_type": "stream",
     "text": [
      "Epoch Loss: 0.37832326311263276\tEpoch Accuracy:0.8348681720701401\n",
      "Epoch: 18\n"
     ]
    },
    {
     "name": "stderr",
     "output_type": "stream",
     "text": [
      "100%|████████████████████████████████████████████████████████████████████████████████| 991/991 [01:03<00:00, 15.72it/s]\n"
     ]
    },
    {
     "name": "stdout",
     "output_type": "stream",
     "text": [
      "Epoch Loss: 0.3595465754936679\tEpoch Accuracy:0.8487447962659266\n",
      "Epoch: 19\n"
     ]
    },
    {
     "name": "stderr",
     "output_type": "stream",
     "text": [
      "100%|████████████████████████████████████████████████████████████████████████████████| 991/991 [01:02<00:00, 15.75it/s]\n"
     ]
    },
    {
     "name": "stdout",
     "output_type": "stream",
     "text": [
      "Epoch Loss: 0.3485470133938973\tEpoch Accuracy:0.8489970985240318\n",
      "Epoch: 20\n"
     ]
    },
    {
     "name": "stderr",
     "output_type": "stream",
     "text": [
      "100%|████████████████████████████████████████████████████████████████████████████████| 991/991 [01:03<00:00, 15.67it/s]"
     ]
    },
    {
     "name": "stdout",
     "output_type": "stream",
     "text": [
      "Epoch Loss: 0.33766414639597\tEpoch Accuracy:0.8554308061057146\n",
      "Training Complete.\n"
     ]
    },
    {
     "name": "stderr",
     "output_type": "stream",
     "text": [
      "\n"
     ]
    }
   ],
   "source": [
    "train(model, train_dl, loss_fn, optimizer, epochs=20)"
   ]
  },
  {
   "cell_type": "code",
   "execution_count": 16,
   "id": "3eaec969-469a-48ac-b43e-b9ac31bed22e",
   "metadata": {},
   "outputs": [],
   "source": [
    "def test(model, test_dl):\n",
    "    corrects = 0\n",
    "    total_entries = 0\n",
    "    model_accuracy = 0\n",
    "    \n",
    "    model.eval()\n",
    "    with torch.no_grad():\n",
    "        for images, labels in tqdm(test_dl):\n",
    "            labels = labels.squeeze().long()\n",
    "            outputs = model(images)\n",
    "            _, predictions = torch.max(outputs, 1)\n",
    "\n",
    "            corrects += torch.sum(predictions == labels).item()\n",
    "            total_entries += labels.size(0)\n",
    "        model_accuracy = corrects / total_entries\n",
    "        print(f'Model Accuracy: {model_accuracy}')\n",
    "        \n",
    "    print('Testing Complete')\n",
    "        "
   ]
  },
  {
   "cell_type": "code",
   "execution_count": 17,
   "id": "00b10b76-027f-4b2d-b250-78c64d21506f",
   "metadata": {},
   "outputs": [
    {
     "name": "stderr",
     "output_type": "stream",
     "text": [
      "100%|██████████████████████████████████████████████████████████████████████████████████| 78/78 [00:01<00:00, 69.86it/s]"
     ]
    },
    {
     "name": "stdout",
     "output_type": "stream",
     "text": [
      "Model Accuracy: 0.8028846153846154\n",
      "Testing Complete\n"
     ]
    },
    {
     "name": "stderr",
     "output_type": "stream",
     "text": [
      "\n"
     ]
    }
   ],
   "source": [
    "test(model, test_dl)"
   ]
  },
  {
   "cell_type": "code",
   "execution_count": null,
   "id": "8c4f85a9-ee2f-4bb4-a7f4-77b52c8c8c3e",
   "metadata": {},
   "outputs": [],
   "source": []
  }
 ],
 "metadata": {
  "kernelspec": {
   "display_name": "cuda:nvidia",
   "language": "python",
   "name": "cuda"
  },
  "language_info": {
   "codemirror_mode": {
    "name": "ipython",
    "version": 3
   },
   "file_extension": ".py",
   "mimetype": "text/x-python",
   "name": "python",
   "nbconvert_exporter": "python",
   "pygments_lexer": "ipython3",
   "version": "3.12.3"
  }
 },
 "nbformat": 4,
 "nbformat_minor": 5
}
