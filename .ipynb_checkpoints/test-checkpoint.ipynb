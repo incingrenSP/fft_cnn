{
 "cells": [
  {
   "cell_type": "code",
   "execution_count": null,
   "id": "4d2b32df-6707-4295-aa57-33e7cabb1d3a",
   "metadata": {},
   "outputs": [],
   "source": [
    "import torch\n",
    "import torch.nn as nn\n",
    "import torch.fft as fft\n",
    "import torchvision\n",
    "from torchvision.transforms import v2\n",
    "import matplotlib.pyplot as plt"
   ]
  },
  {
   "cell_type": "code",
   "execution_count": null,
   "id": "14e77428-9423-46f7-b1ba-3fbec1a063dd",
   "metadata": {},
   "outputs": [],
   "source": [
    "import os\n",
    "import math\n",
    "import numpy\n",
    "from tqdm import tqdm\n",
    "import cv2\n",
    "import scipy"
   ]
  },
  {
   "cell_type": "code",
   "execution_count": null,
   "id": "0a6f78bb-9e36-438c-bb9b-c3ff4d421fef",
   "metadata": {},
   "outputs": [],
   "source": [
    "def load_image(path):\n",
    "    transform = v2.Compose([\n",
    "        v2.ToImage(),\n",
    "        v2.ToDtype(torch.float32, scale=True),\n",
    "        v2.Resize((256,256)),\n",
    "        v2.Normalize(mean=[0.5,], std=[0.5,]),\n",
    "        v2.Grayscale(num_output_channels=3)\n",
    "    ])\n",
    "    image = cv2.imread(path, cv2.IMREAD_GRAYSCALE)\n",
    "    image = transform(image)\n",
    "    return image"
   ]
  },
  {
   "cell_type": "code",
   "execution_count": null,
   "id": "1371ba07-39fd-4267-ab7e-5523c38304ec",
   "metadata": {},
   "outputs": [],
   "source": [
    "path = os.path.join('image.jpg')\n",
    "image = load_image(path)\n",
    "fft_image = fft.fft2(image)\n",
    "# fft_shift = fft.fftshift(fft_image, dim=(-2,-1))\n",
    "fft_image = fft.fftshift(fft_image)\n",
    "magnitude = torch.log(torch.abs(fft_image)+ 1e-10)"
   ]
  },
  {
   "cell_type": "code",
   "execution_count": null,
   "id": "78928ebd-e71d-4de1-be88-e5a5a46d46a6",
   "metadata": {},
   "outputs": [],
   "source": [
    "image.shape"
   ]
  },
  {
   "cell_type": "code",
   "execution_count": null,
   "id": "f06a3132-f059-48fb-b2f3-97e1b26919ea",
   "metadata": {},
   "outputs": [],
   "source": [
    "plt.subplot(1,2,1)\n",
    "plt.title('Original Image')\n",
    "plt.imshow(image.permute(1,2,0), cmap='gray')\n",
    "plt.axis('off')\n",
    "\n",
    "plt.subplot(1,2,2)\n",
    "plt.title('Magnitude Spectrum')\n",
    "plt.imshow(magnitude.permute(1,2,0), cmap='gray')\n",
    "plt.axis('off')\n",
    "\n",
    "plt.show()"
   ]
  },
  {
   "cell_type": "code",
   "execution_count": null,
   "id": "1f0fb334-0419-4ac3-b9a0-131a4dc8cdaa",
   "metadata": {},
   "outputs": [],
   "source": [
    "image.shape"
   ]
  },
  {
   "cell_type": "code",
   "execution_count": null,
   "id": "591ff60e-e687-459e-b81d-9958be9860bd",
   "metadata": {},
   "outputs": [],
   "source": [
    "channel, rows, cols = image.shape\n",
    "crow, ccol = rows//2, cols//2\n",
    "radius = 50\n",
    "\n",
    "mask = torch.zeros((rows, cols))\n",
    "y, x = torch.meshgrid(torch.arange(0, rows), torch.arange(0, cols), indexing='ij')\n",
    "mask_area = torch.sqrt((x - ccol)**2 + (y - crow)**2)\n",
    "\n",
    "mask_h = (mask_area > radius).float()\n",
    "mask_l = (mask_area <= radius).float()"
   ]
  },
  {
   "cell_type": "code",
   "execution_count": null,
   "id": "e9d11668-7995-4c6c-88c5-c44d35274ae9",
   "metadata": {},
   "outputs": [],
   "source": [
    "high_filtered_fft = fft_image * mask_h\n",
    "high_filtered_image = torch.abs(fft.ifftshift(high_filtered_fft))\n",
    "magnitude_high_filtered_image = torch.log(torch.abs(high_filtered_image)+ 1)\n",
    "\n",
    "low_filtered_fft = fft_image * mask_l\n",
    "low_filtered_image = torch.abs(fft.ifftshift(low_filtered_fft))\n",
    "magnitude_low_filtered_image = torch.log(torch.abs(low_filtered_image)+ 1)"
   ]
  },
  {
   "cell_type": "code",
   "execution_count": null,
   "id": "0876851e-e949-4e01-a1c2-c93f7676503e",
   "metadata": {},
   "outputs": [],
   "source": [
    "fig, axes = plt.subplots(1, 4, figsize=(15, 5))\n",
    "axes = axes.flatten()\n",
    "\n",
    "axes[0].set_title('Original')\n",
    "axes[0].imshow(image.permute(1,2,0), cmap='gray')\n",
    "axes[0].axis('off')\n",
    "\n",
    "axes[1].set_title('FFT')\n",
    "axes[1].imshow(magnitude.permute(1,2,0), cmap='gray')\n",
    "axes[1].axis('off')\n",
    "\n",
    "axes[2].set_title('Low Pass Filter')\n",
    "axes[2].imshow(magnitude_low_filtered_image.permute(1,2,0), cmap='gray')\n",
    "axes[2].axis('off')\n",
    "\n",
    "axes[3].set_title('High Pass Filter')\n",
    "axes[3].imshow(magnitude_high_filtered_image.permute(1,2,0), cmap='gray')\n",
    "axes[3].axis('off')\n",
    "\n",
    "plt.show()"
   ]
  },
  {
   "cell_type": "code",
   "execution_count": null,
   "id": "e5a69761-b275-401e-ad55-33895e870aeb",
   "metadata": {},
   "outputs": [],
   "source": [
    "import torchvision.models as models"
   ]
  },
  {
   "cell_type": "code",
   "execution_count": null,
   "id": "eccab87a-1aba-4052-a72d-9a8b99ec2c6f",
   "metadata": {},
   "outputs": [],
   "source": [
    "google = models.googlenet(weights=None, init_weights=True)"
   ]
  },
  {
   "cell_type": "code",
   "execution_count": null,
   "id": "60f018a5-82f9-471f-845f-2c8c8aafe2b7",
   "metadata": {},
   "outputs": [],
   "source": [
    "image = image.expand(1,-1,-1,-1)"
   ]
  },
  {
   "cell_type": "code",
   "execution_count": null,
   "id": "9ecf2b54-c30a-41e5-a8fc-5a6e41a51989",
   "metadata": {
    "scrolled": true
   },
   "outputs": [],
   "source": [
    "google"
   ]
  },
  {
   "cell_type": "code",
   "execution_count": null,
   "id": "0904bcc2-89c8-4d17-905f-adf1943ed304",
   "metadata": {},
   "outputs": [],
   "source": [
    "class FFTConvNet(nn.Module):\n",
    "    def __init__(self, conv_layer, fft_filter=None):\n",
    "        super().__init__()\n",
    "        self.conv_layer = conv_layer\n",
    "        self.fft_filter = fft_filter\n",
    "\n",
    "    def fft_filter_def(self, fft_x, height, width, device):\n",
    "        cht, cwt = height//2, width//2\n",
    "        mask_radius = 30\n",
    "        \n",
    "        mask = torch.zeros((height, width))\n",
    "        fy, fx = torch.meshgrid(torch.arange(0, height, device=device),\n",
    "                                torch.arange(0, width, device=device),\n",
    "                                indexing='ij')\n",
    "        mask_area = torch.sqrt((fx - cwt)**2 + (fy - cht)**2)\n",
    "\n",
    "        if self.fft_filter == 'high':\n",
    "            mask = (mask_area > mask_radius).float()\n",
    "        else:\n",
    "            mask = (mask_area <= mask_radius).float()\n",
    "        filtered_fft = fft_x * mask\n",
    "        \n",
    "        return filtered_fft\n",
    "\n",
    "    def forward(self, x):\n",
    "        batch_size, channels, height, width = x.size()\n",
    "        \n",
    "        # apply fft on input image\n",
    "        fft_x = fft.fft2(x)\n",
    "        fft_x = fft.fftshift(fft_x)\n",
    "        print(f'1. fft_x: {fft_x.shape}')\n",
    "\n",
    "        kernel_fft = fft.fft2(self.conv_layer.weight, s=(height, width))\n",
    "        kernel_fft = fft.fftshift(kernel_fft)\n",
    "        print(f'2. kernel_fft: {kernel_fft.shape}')\n",
    "\n",
    "        kernel_fft = kernel_fft\n",
    "        print(f'3. fft_x: {fft_x.shape}')\n",
    "        print(f'4. kernel_fft: {kernel_fft.shape}')\n",
    "\n",
    "        # apply fft filter (low pass)\n",
    "        if self.fft_filter is not None:\n",
    "            fft_x = self.fft_filter_def(fft_x, height, width, x.device)\n",
    "\n",
    "        print(f'5. fft_x: {fft_x.shape}')\n",
    "        \n",
    "        # perform element wise complex multiplcation\n",
    "        # fft_output = torch.sum(fft_x * kernel_fft, dim=2)\n",
    "        \n",
    "        # trying out einsum complex multiplication for bixy * ioxy -> boxy instead\n",
    "        fft_output = torch.einsum('bixy,oixy->boxy', fft_x, kernel_fft)\n",
    "        print(f'6. fft_output: {fft_output.shape}')\n",
    "        \n",
    "        # apply inverse fft\n",
    "        fft_output = fft.ifftshift(fft_output)\n",
    "        spatial_output = fft.ifft2(fft_output).real\n",
    "        print(f'7. spatial_output: {spatial_output.shape}')\n",
    "        \n",
    "        # return output\n",
    "        return spatial_output"
   ]
  },
  {
   "cell_type": "code",
   "execution_count": null,
   "id": "8828e5a8-44b1-4170-95e1-0d3a80c594b5",
   "metadata": {},
   "outputs": [],
   "source": [
    "class ConvNet(nn.Module):\n",
    "    def __init__(self):\n",
    "        super().__init__()\n",
    "        self.layer1 = nn.Conv2d(3, 64, kernel_size=7, stride=2, padding=3)\n",
    "        self.act1 = nn.LeakyReLU()\n",
    "        self.dropout = nn.Dropout(p=0.2)\n",
    "\n",
    "        self.f_layer = nn.Flatten()\n",
    "        self.fc1 = nn.Linear(4194304, 50)\n",
    "        self.fc2 = nn.Linear(50, 1)\n",
    "\n",
    "    def forward(self, inp):\n",
    "        x = self.layer1(inp)\n",
    "        print(f'Conv: {x.shape}')\n",
    "        x = self.dropout(x)\n",
    "        print(f'Drop: {x.shape}')\n",
    "        x = self.act1(x)\n",
    "        print(f'Act: {x.shape}')\n",
    "        x = self.f_layer(x)\n",
    "        print(f'Flat: {x.shape}')\n",
    "        \n",
    "        x = self.fc1(x)\n",
    "        print(f'FC1: {x.shape}')\n",
    "        x = self.fc2(x)\n",
    "        print(f'FC2: {x.shape}')\n",
    "\n",
    "        x = nn.functional.log_softmax(x, dim=1)\n",
    "        print(f'OP: {x.shape}')\n",
    "\n",
    "        return x"
   ]
  },
  {
   "cell_type": "code",
   "execution_count": null,
   "id": "1095cd50-0a56-451a-8dea-7c08ec3f6f26",
   "metadata": {},
   "outputs": [],
   "source": [
    "model = ConvNet()"
   ]
  },
  {
   "cell_type": "code",
   "execution_count": null,
   "id": "284a5857-82ab-4eeb-8b8b-e283ee4cc006",
   "metadata": {},
   "outputs": [],
   "source": [
    "for name, module in model.named_children():\n",
    "    if isinstance(module, nn.Conv2d):\n",
    "        fft_conv = FFTConvNet(module, 'low')\n",
    "        setattr(model, name, fft_conv)"
   ]
  },
  {
   "cell_type": "code",
   "execution_count": null,
   "id": "a035717f-db4b-44be-b9cd-eac812c2aacf",
   "metadata": {},
   "outputs": [],
   "source": [
    "model"
   ]
  },
  {
   "cell_type": "code",
   "execution_count": null,
   "id": "93148ed9-d99f-489a-92f5-97b6c03fbf52",
   "metadata": {},
   "outputs": [],
   "source": [
    "output = model(image)"
   ]
  },
  {
   "cell_type": "code",
   "execution_count": null,
   "id": "9e379f4e-69fb-4775-9eb5-ab7f64a4eeae",
   "metadata": {},
   "outputs": [],
   "source": [
    "output"
   ]
  },
  {
   "cell_type": "code",
   "execution_count": null,
   "id": "840ecd9c-dcf1-41c7-bbc5-03b9ca005f2d",
   "metadata": {},
   "outputs": [],
   "source": [
    "def search_conv(model):\n",
    "    for name, module in model.named_children():\n",
    "        if isinstance(module, nn.Conv2d):\n",
    "            conv_fft = FFTConvNet(module, 'low')\n",
    "            setattr(model, name, conv_fft)\n",
    "        elif isinstance(module, nn.Sequential) or isinstance(module, nn.Module):\n",
    "            search_conv(module)\n",
    "    return model"
   ]
  },
  {
   "cell_type": "code",
   "execution_count": null,
   "id": "2adcf531-eea1-4cb5-b500-55155c949ae5",
   "metadata": {
    "scrolled": true
   },
   "outputs": [],
   "source": [
    "test_model = search_conv(google)\n",
    "test_model"
   ]
  },
  {
   "cell_type": "code",
   "execution_count": null,
   "id": "3cf6b092-0399-4594-a699-6081753401f5",
   "metadata": {},
   "outputs": [],
   "source": [
    "google_op = google(image)"
   ]
  },
  {
   "cell_type": "code",
   "execution_count": null,
   "id": "c1acd2f3-cc5c-4de3-b3e2-62a25cd8de41",
   "metadata": {},
   "outputs": [],
   "source": []
  }
 ],
 "metadata": {
  "kernelspec": {
   "display_name": "cuda:nvidia",
   "language": "python",
   "name": "cuda"
  },
  "language_info": {
   "codemirror_mode": {
    "name": "ipython",
    "version": 3
   },
   "file_extension": ".py",
   "mimetype": "text/x-python",
   "name": "python",
   "nbconvert_exporter": "python",
   "pygments_lexer": "ipython3",
   "version": "3.12.3"
  }
 },
 "nbformat": 4,
 "nbformat_minor": 5
}
