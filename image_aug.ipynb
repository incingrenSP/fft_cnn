{
 "cells": [
  {
   "cell_type": "code",
   "execution_count": null,
   "id": "a0cd8d84-6887-485f-bc23-78629228cf6c",
   "metadata": {},
   "outputs": [],
   "source": [
    "import os\n",
    "import shutil\n",
    "import random\n",
    "from PIL import Image\n",
    "from torchvision.transforms import v2"
   ]
  },
  {
   "cell_type": "code",
   "execution_count": null,
   "id": "b6f1952e-dc59-42dc-9ab9-ca09a8139d04",
   "metadata": {},
   "outputs": [],
   "source": [
    "def augment_image(image_path, output_path):\n",
    "    image = Image.open(image_path).convert(\"RGB\")\n",
    "    \n",
    "    transform = v2.Compose([\n",
    "        # v2.RandomHorizontalFlip(p=0.5),\n",
    "        v2.RandomVerticalFlip(p=0.5),\n",
    "        # v2.RandomRotation(degrees=(0, 360)),\n",
    "        # v2.ColorJitter(brightness=0.2, contrast=0.2, saturation=0.2),\n",
    "        # v2.RandomAffine(degrees=0, scale=(0.8, 1.2))\n",
    "    ])\n",
    "    \n",
    "    augmented_image = transform(image)\n",
    "    augmented_image.save(output_path)"
   ]
  },
  {
   "cell_type": "code",
   "execution_count": null,
   "id": "f1b9d1c7-4649-4076-8812-f0ad57d8cc35",
   "metadata": {},
   "outputs": [],
   "source": [
    "def process_images(input_dir, temp_dir):\n",
    "    if not os.path.exists(temp_dir):\n",
    "        os.makedirs(temp_dir)\n",
    "    \n",
    "    for filename in os.listdir(input_dir):\n",
    "        if filename.lower().endswith(('png', 'jpg', 'jpeg')):\n",
    "            src_path = os.path.join(input_dir, filename)\n",
    "            new_filename = f\"aug_{random.randint(4000, 10000)}_{filename}\"\n",
    "            temp_path = os.path.join(temp_dir, new_filename)\n",
    "            \n",
    "            shutil.copy2(src_path, temp_path)  # Copy to temp directory\n",
    "            augment_image(temp_path, temp_path)  # Augment the copied image\n",
    "            \n",
    "    # Move augmented images back to the input directory\n",
    "    for filename in os.listdir(temp_dir):\n",
    "        src_path = os.path.join(temp_dir, filename)\n",
    "        dest_path = os.path.join(input_dir, filename)\n",
    "        shutil.move(src_path, dest_path)\n",
    "    \n",
    "    os.rmdir(temp_dir)  # Remove temporary directory\n"
   ]
  },
  {
   "cell_type": "code",
   "execution_count": null,
   "id": "d0cdaf06-f2f5-4ab0-9490-fd268d997a80",
   "metadata": {},
   "outputs": [],
   "source": [
    "input_directory = os.path.join(\"data\", \"train_set\", \"viral\")\n",
    "temp_directory = os.path.join(\"temp\")\n",
    "process_images(input_directory, temp_directory)\n",
    "print(\"Augmentation completed.\")"
   ]
  },
  {
   "cell_type": "code",
   "execution_count": null,
   "id": "576d6b77-915e-45e0-8967-e8623ec0c22c",
   "metadata": {},
   "outputs": [],
   "source": []
  }
 ],
 "metadata": {
  "kernelspec": {
   "display_name": "cuda:nvidia",
   "language": "python",
   "name": "cuda"
  },
  "language_info": {
   "codemirror_mode": {
    "name": "ipython",
    "version": 3
   },
   "file_extension": ".py",
   "mimetype": "text/x-python",
   "name": "python",
   "nbconvert_exporter": "python",
   "pygments_lexer": "ipython3",
   "version": "3.12.3"
  }
 },
 "nbformat": 4,
 "nbformat_minor": 5
}
